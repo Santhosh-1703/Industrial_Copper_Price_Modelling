{
 "cells": [
  {
   "cell_type": "code",
   "execution_count": 1,
   "id": "431fbdcb-2ebd-4c3d-a3bf-259725cca545",
   "metadata": {},
   "outputs": [],
   "source": [
    "import pandas as pd\n",
    "import numpy as np"
   ]
  },
  {
   "cell_type": "code",
   "execution_count": 2,
   "id": "a2836611-a8c6-4ab5-b2cc-dd113bc1af9b",
   "metadata": {},
   "outputs": [],
   "source": [
    "import warnings\n",
    "warnings.filterwarnings(\"ignore\")"
   ]
  },
  {
   "cell_type": "code",
   "execution_count": 3,
   "id": "51d91508-0d51-4d8f-aebd-dc0b0f556c84",
   "metadata": {},
   "outputs": [],
   "source": [
    "df1 = pd.read_csv(r\"C:\\Users\\SANTHOSH RAJENDRAN\\Desktop\\GUVI Python\\Project-ICM\\Copper_Set_F.csv\")"
   ]
  },
  {
   "cell_type": "code",
   "execution_count": 4,
   "id": "0aa80323-871c-4b60-b453-2a2efa96d657",
   "metadata": {},
   "outputs": [
    {
     "data": {
      "text/html": [
       "<div>\n",
       "<style scoped>\n",
       "    .dataframe tbody tr th:only-of-type {\n",
       "        vertical-align: middle;\n",
       "    }\n",
       "\n",
       "    .dataframe tbody tr th {\n",
       "        vertical-align: top;\n",
       "    }\n",
       "\n",
       "    .dataframe thead th {\n",
       "        text-align: right;\n",
       "    }\n",
       "</style>\n",
       "<table border=\"1\" class=\"dataframe\">\n",
       "  <thead>\n",
       "    <tr style=\"text-align: right;\">\n",
       "      <th></th>\n",
       "      <th>id</th>\n",
       "      <th>item_date</th>\n",
       "      <th>quantity tons</th>\n",
       "      <th>customer</th>\n",
       "      <th>country</th>\n",
       "      <th>status</th>\n",
       "      <th>item type</th>\n",
       "      <th>application</th>\n",
       "      <th>thickness</th>\n",
       "      <th>width</th>\n",
       "      <th>material_ref</th>\n",
       "      <th>product_ref</th>\n",
       "      <th>delivery date</th>\n",
       "      <th>selling_price</th>\n",
       "    </tr>\n",
       "  </thead>\n",
       "  <tbody>\n",
       "    <tr>\n",
       "      <th>0</th>\n",
       "      <td>EC06F063-9DF0-440C-8764-0B0C05A4F6AE</td>\n",
       "      <td>20210401.0</td>\n",
       "      <td>54.151139</td>\n",
       "      <td>30156308.0</td>\n",
       "      <td>28.0</td>\n",
       "      <td>Won</td>\n",
       "      <td>W</td>\n",
       "      <td>10.0</td>\n",
       "      <td>2.00</td>\n",
       "      <td>1500.0</td>\n",
       "      <td>DEQ1 S460MC</td>\n",
       "      <td>1670798778</td>\n",
       "      <td>20210701.0</td>\n",
       "      <td>854.00</td>\n",
       "    </tr>\n",
       "    <tr>\n",
       "      <th>1</th>\n",
       "      <td>4E5F4B3D-DDDF-499D-AFDE-A3227EC49425</td>\n",
       "      <td>20210401.0</td>\n",
       "      <td>768.024839</td>\n",
       "      <td>30202938.0</td>\n",
       "      <td>25.0</td>\n",
       "      <td>Won</td>\n",
       "      <td>W</td>\n",
       "      <td>41.0</td>\n",
       "      <td>0.80</td>\n",
       "      <td>1210.0</td>\n",
       "      <td>0000000000000000000000000000000000104991</td>\n",
       "      <td>1668701718</td>\n",
       "      <td>20210401.0</td>\n",
       "      <td>1047.00</td>\n",
       "    </tr>\n",
       "    <tr>\n",
       "      <th>2</th>\n",
       "      <td>E140FF1B-2407-4C02-A0DD-780A093B1158</td>\n",
       "      <td>20210401.0</td>\n",
       "      <td>386.127949</td>\n",
       "      <td>30153963.0</td>\n",
       "      <td>30.0</td>\n",
       "      <td>Won</td>\n",
       "      <td>WI</td>\n",
       "      <td>28.0</td>\n",
       "      <td>0.38</td>\n",
       "      <td>952.0</td>\n",
       "      <td>S0380700</td>\n",
       "      <td>628377</td>\n",
       "      <td>20210101.0</td>\n",
       "      <td>644.33</td>\n",
       "    </tr>\n",
       "    <tr>\n",
       "      <th>3</th>\n",
       "      <td>F8D507A0-9C62-4EFE-831E-33E1DA53BB50</td>\n",
       "      <td>20210401.0</td>\n",
       "      <td>202.411065</td>\n",
       "      <td>30349574.0</td>\n",
       "      <td>32.0</td>\n",
       "      <td>Won</td>\n",
       "      <td>S</td>\n",
       "      <td>59.0</td>\n",
       "      <td>2.30</td>\n",
       "      <td>1317.0</td>\n",
       "      <td>DX51D+ZM310MAO 2.3X1317</td>\n",
       "      <td>1668701718</td>\n",
       "      <td>20210101.0</td>\n",
       "      <td>768.00</td>\n",
       "    </tr>\n",
       "    <tr>\n",
       "      <th>4</th>\n",
       "      <td>4E1C4E78-152B-430A-8094-ADD889C9D0AD</td>\n",
       "      <td>20210401.0</td>\n",
       "      <td>785.526262</td>\n",
       "      <td>30211560.0</td>\n",
       "      <td>28.0</td>\n",
       "      <td>Won</td>\n",
       "      <td>W</td>\n",
       "      <td>10.0</td>\n",
       "      <td>4.00</td>\n",
       "      <td>2000.0</td>\n",
       "      <td>2_S275JR+AR-CL1</td>\n",
       "      <td>640665</td>\n",
       "      <td>20210301.0</td>\n",
       "      <td>577.00</td>\n",
       "    </tr>\n",
       "  </tbody>\n",
       "</table>\n",
       "</div>"
      ],
      "text/plain": [
       "                                     id   item_date quantity tons    customer  \\\n",
       "0  EC06F063-9DF0-440C-8764-0B0C05A4F6AE  20210401.0     54.151139  30156308.0   \n",
       "1  4E5F4B3D-DDDF-499D-AFDE-A3227EC49425  20210401.0    768.024839  30202938.0   \n",
       "2  E140FF1B-2407-4C02-A0DD-780A093B1158  20210401.0    386.127949  30153963.0   \n",
       "3  F8D507A0-9C62-4EFE-831E-33E1DA53BB50  20210401.0    202.411065  30349574.0   \n",
       "4  4E1C4E78-152B-430A-8094-ADD889C9D0AD  20210401.0    785.526262  30211560.0   \n",
       "\n",
       "   country status item type  application  thickness   width  \\\n",
       "0     28.0    Won         W         10.0       2.00  1500.0   \n",
       "1     25.0    Won         W         41.0       0.80  1210.0   \n",
       "2     30.0    Won        WI         28.0       0.38   952.0   \n",
       "3     32.0    Won         S         59.0       2.30  1317.0   \n",
       "4     28.0    Won         W         10.0       4.00  2000.0   \n",
       "\n",
       "                               material_ref  product_ref  delivery date  \\\n",
       "0                               DEQ1 S460MC   1670798778     20210701.0   \n",
       "1  0000000000000000000000000000000000104991   1668701718     20210401.0   \n",
       "2                                  S0380700       628377     20210101.0   \n",
       "3                   DX51D+ZM310MAO 2.3X1317   1668701718     20210101.0   \n",
       "4                           2_S275JR+AR-CL1       640665     20210301.0   \n",
       "\n",
       "   selling_price  \n",
       "0         854.00  \n",
       "1        1047.00  \n",
       "2         644.33  \n",
       "3         768.00  \n",
       "4         577.00  "
      ]
     },
     "execution_count": 4,
     "metadata": {},
     "output_type": "execute_result"
    }
   ],
   "source": [
    "df=df1.copy()\n",
    "df.head()"
   ]
  },
  {
   "cell_type": "code",
   "execution_count": 5,
   "id": "a3cebf3d-dbce-4ea1-9c8a-98328d98c9bc",
   "metadata": {},
   "outputs": [
    {
     "data": {
      "text/plain": [
       "(181673, 14)"
      ]
     },
     "execution_count": 5,
     "metadata": {},
     "output_type": "execute_result"
    }
   ],
   "source": [
    "df.shape"
   ]
  },
  {
   "cell_type": "code",
   "execution_count": 6,
   "id": "0ee032fc-517f-4094-a3bc-d3d1fbe54225",
   "metadata": {},
   "outputs": [
    {
     "name": "stdout",
     "output_type": "stream",
     "text": [
      "<class 'pandas.core.frame.DataFrame'>\n",
      "RangeIndex: 181673 entries, 0 to 181672\n",
      "Data columns (total 14 columns):\n",
      " #   Column         Non-Null Count   Dtype  \n",
      "---  ------         --------------   -----  \n",
      " 0   id             181671 non-null  object \n",
      " 1   item_date      181672 non-null  float64\n",
      " 2   quantity tons  181673 non-null  object \n",
      " 3   customer       181672 non-null  float64\n",
      " 4   country        181645 non-null  float64\n",
      " 5   status         181671 non-null  object \n",
      " 6   item type      181673 non-null  object \n",
      " 7   application    181649 non-null  float64\n",
      " 8   thickness      181672 non-null  float64\n",
      " 9   width          181673 non-null  float64\n",
      " 10  material_ref   103754 non-null  object \n",
      " 11  product_ref    181673 non-null  int64  \n",
      " 12  delivery date  181672 non-null  float64\n",
      " 13  selling_price  181672 non-null  float64\n",
      "dtypes: float64(8), int64(1), object(5)\n",
      "memory usage: 19.4+ MB\n"
     ]
    }
   ],
   "source": [
    "df.info()"
   ]
  },
  {
   "cell_type": "code",
   "execution_count": 7,
   "id": "1ed9a55d",
   "metadata": {},
   "outputs": [
    {
     "data": {
      "text/plain": [
       "id               181671\n",
       "item_date           252\n",
       "quantity tons    181673\n",
       "customer           1169\n",
       "country              17\n",
       "status                9\n",
       "item type             7\n",
       "application          30\n",
       "thickness           594\n",
       "width              1386\n",
       "material_ref      16563\n",
       "product_ref          33\n",
       "delivery date        28\n",
       "selling_price      9795\n",
       "dtype: int64"
      ]
     },
     "execution_count": 7,
     "metadata": {},
     "output_type": "execute_result"
    }
   ],
   "source": [
    "df.nunique()"
   ]
  },
  {
   "cell_type": "code",
   "execution_count": 8,
   "id": "af7311d6",
   "metadata": {},
   "outputs": [
    {
     "data": {
      "text/plain": [
       "id                   2\n",
       "item_date            1\n",
       "quantity tons        0\n",
       "customer             1\n",
       "country             28\n",
       "status               2\n",
       "item type            0\n",
       "application         24\n",
       "thickness            1\n",
       "width                0\n",
       "material_ref     77919\n",
       "product_ref          0\n",
       "delivery date        1\n",
       "selling_price        1\n",
       "dtype: int64"
      ]
     },
     "execution_count": 8,
     "metadata": {},
     "output_type": "execute_result"
    }
   ],
   "source": [
    "# Checking null values\n",
    "df.isnull().sum()"
   ]
  },
  {
   "cell_type": "code",
   "execution_count": 9,
   "id": "7b347138-26d5-41ef-81fc-e7b954a05908",
   "metadata": {},
   "outputs": [],
   "source": [
    "Null_columns = []\n",
    "#To get columns with null values\n",
    "for col in df.columns:\n",
    "    if df[col].isnull().sum()>0:\n",
    "        Null_columns.append(col)"
   ]
  },
  {
   "cell_type": "code",
   "execution_count": 10,
   "id": "1a595cf9-b090-41c0-8d64-77e6759655d9",
   "metadata": {},
   "outputs": [
    {
     "name": "stdout",
     "output_type": "stream",
     "text": [
      "id has 0.0% of null values\n",
      "item_date has 0.0% of null values\n",
      "customer has 0.0% of null values\n",
      "country has 0.02% of null values\n",
      "status has 0.0% of null values\n",
      "application has 0.01% of null values\n",
      "thickness has 0.0% of null values\n",
      "material_ref has 42.89% of null values\n",
      "delivery date has 0.0% of null values\n",
      "selling_price has 0.0% of null values\n"
     ]
    }
   ],
   "source": [
    "for col in Null_columns:\n",
    "    Percentage = round((df[col].isnull().sum() / df.shape[0]) * 100, 2)\n",
    "    print(f\"{col} has {Percentage}% of null values\")"
   ]
  },
  {
   "cell_type": "code",
   "execution_count": 11,
   "id": "11f24b83-26ef-44e7-8cd6-263c389c48e5",
   "metadata": {},
   "outputs": [
    {
     "data": {
      "text/plain": [
       "id                object\n",
       "item_date        float64\n",
       "quantity tons     object\n",
       "customer         float64\n",
       "country          float64\n",
       "status            object\n",
       "item type         object\n",
       "application      float64\n",
       "thickness        float64\n",
       "width            float64\n",
       "material_ref      object\n",
       "product_ref        int64\n",
       "delivery date    float64\n",
       "selling_price    float64\n",
       "dtype: object"
      ]
     },
     "execution_count": 11,
     "metadata": {},
     "output_type": "execute_result"
    }
   ],
   "source": [
    "df.dtypes"
   ]
  },
  {
   "cell_type": "code",
   "execution_count": 12,
   "id": "6d0bfea7",
   "metadata": {},
   "outputs": [
    {
     "data": {
      "text/plain": [
       "Index(['id', 'item_date', 'quantity tons', 'customer', 'country', 'status',\n",
       "       'item type', 'application', 'thickness', 'width', 'material_ref',\n",
       "       'product_ref', 'delivery date', 'selling_price'],\n",
       "      dtype='object')"
      ]
     },
     "execution_count": 12,
     "metadata": {},
     "output_type": "execute_result"
    }
   ],
   "source": [
    "df.columns"
   ]
  },
  {
   "cell_type": "code",
   "execution_count": 13,
   "id": "66613184",
   "metadata": {},
   "outputs": [],
   "source": [
    "df.columns = ['id', 'item_date', 'quantity_tons', 'customer', 'country', 'status',\n",
    "       'item_type', 'application', 'thickness', 'width', 'material_ref',\n",
    "       'product_ref', 'delivery_date', 'selling_price']"
   ]
  },
  {
   "cell_type": "code",
   "execution_count": 14,
   "id": "989109cc",
   "metadata": {},
   "outputs": [],
   "source": [
    "df['id'] = df['id'].apply(lambda x: str(x)).fillna(method='bfill')"
   ]
  },
  {
   "cell_type": "code",
   "execution_count": 15,
   "id": "487e701d-adec-4514-a417-e0b3bc52ca39",
   "metadata": {},
   "outputs": [],
   "source": [
    "#found 'e' in quality tons so replacing it with NaN\n",
    "df['quantity_tons'] = df['quantity_tons'].replace('e', np.NaN).astype(float)"
   ]
  },
  {
   "cell_type": "code",
   "execution_count": 16,
   "id": "ed2de70b-4813-443b-b88d-1242e36db126",
   "metadata": {},
   "outputs": [],
   "source": [
    "#while changing to date format makes a error\n",
    "df['item_date']=df['item_date'].replace(19950000,np.NaN)\n",
    "df['item_date']=df['item_date'].replace(20191919,np.NaN)\n",
    "df['delivery_date']=df['delivery_date'].replace(30310101,np.NaN)\n",
    "df['delivery_date']=df['delivery_date'].replace(20212222,np.NaN)"
   ]
  },
  {
   "cell_type": "code",
   "execution_count": 17,
   "id": "2d63acf6-5f80-4d71-bfcd-3903d1b157e7",
   "metadata": {},
   "outputs": [],
   "source": [
    "# dealing with data in wrong format\n",
    "# for categorical variables, this step is ignored\n",
    "#errors='coerce' during conv if any error occurs it'll manage or no numeric(return NAN)\n",
    "#.str.lstrip('0') method is used to strip leading characters from each element in the Series/Index from the left side.\n",
    "\n",
    "df['item_date'] = pd.to_datetime(df['item_date'], format='%Y%m%d', errors='coerce').dt.date\n",
    "df['quantity_tons'] = pd.to_numeric(df['quantity_tons'], errors='coerce')\n",
    "df['customer'] = pd.to_numeric(df['customer'], errors='coerce')\n",
    "df['country'] = pd.to_numeric(df['country'], errors='coerce')\n",
    "df['application'] = pd.to_numeric(df['application'], errors='coerce')\n",
    "df['application'] = df['application'].apply(lambda x: str(x)).fillna(method='bfill')\n",
    "df['thickness'] = pd.to_numeric(df['thickness'], errors='coerce')\n",
    "df['width'] = pd.to_numeric(df['width'], errors='coerce')\n",
    "df['material_ref'] = df['material_ref'].astype(str).fillna('Unknown').str.lstrip('0')\n",
    "df['material_ref'] = pd.Categorical(df['material_ref'], categories=df['material_ref'].unique())\n",
    "df['product_ref'] = pd.to_numeric(df['product_ref'], errors='coerce').astype(str)\n",
    "df['delivery_date'] = pd.to_datetime(df['delivery_date'], format='%Y%m%d', errors='coerce').dt.date\n",
    "df['selling_price'] = pd.to_numeric(df['selling_price'], errors='coerce')"
   ]
  },
  {
   "cell_type": "code",
   "execution_count": 18,
   "id": "2336ff6d-cf39-4862-ac9c-5477be6cfd42",
   "metadata": {},
   "outputs": [
    {
     "data": {
      "text/plain": [
       "id                 object\n",
       "item_date          object\n",
       "quantity_tons     float64\n",
       "customer          float64\n",
       "country           float64\n",
       "status             object\n",
       "item_type          object\n",
       "application        object\n",
       "thickness         float64\n",
       "width             float64\n",
       "material_ref     category\n",
       "product_ref        object\n",
       "delivery_date      object\n",
       "selling_price     float64\n",
       "dtype: object"
      ]
     },
     "execution_count": 18,
     "metadata": {},
     "output_type": "execute_result"
    }
   ],
   "source": [
    "df.dtypes"
   ]
  },
  {
   "cell_type": "code",
   "execution_count": 19,
   "id": "693d8e6f-7ca6-4718-85ae-b83cc2b3f8ec",
   "metadata": {},
   "outputs": [],
   "source": [
    "#quantity tons and selling_price have a negative values, This is impossible,\n",
    "# so we need to replace the negative values with null values\n",
    "df[\"quantity_tons\"]= df[\"quantity_tons\"].apply(lambda x: np.nan if x<=0 else x)\n",
    "df[\"selling_price\"]= df[\"selling_price\"].apply(lambda x: np.nan if x<=0 else x)"
   ]
  },
  {
   "cell_type": "code",
   "execution_count": 20,
   "id": "7b34439e",
   "metadata": {},
   "outputs": [],
   "source": [
    "Mean = round(df['selling_price'].mean(),3)\n",
    "\n",
    "df['selling_price'].fillna(Mean,inplace=True)\n",
    "\n",
    "df['selling_price'] = df['selling_price'].apply(lambda x : float(x))"
   ]
  },
  {
   "cell_type": "code",
   "execution_count": 21,
   "id": "3d11fa7d",
   "metadata": {},
   "outputs": [
    {
     "name": "stdout",
     "output_type": "stream",
     "text": [
      "Missing Values:\n",
      "id                0\n",
      "item_date         3\n",
      "quantity_tons     5\n",
      "customer          1\n",
      "country          28\n",
      "status            2\n",
      "item_type         0\n",
      "application       0\n",
      "thickness         1\n",
      "width             0\n",
      "material_ref      0\n",
      "product_ref       0\n",
      "delivery_date     3\n",
      "selling_price     0\n",
      "dtype: int64\n",
      "\n",
      "Missing Value Percentage:\n",
      "id               0.000000\n",
      "item_date        0.001651\n",
      "quantity_tons    0.002752\n",
      "customer         0.000550\n",
      "country          0.015412\n",
      "status           0.001101\n",
      "item_type        0.000000\n",
      "application      0.000000\n",
      "thickness        0.000550\n",
      "width            0.000000\n",
      "material_ref     0.000000\n",
      "product_ref      0.000000\n",
      "delivery_date    0.001651\n",
      "selling_price    0.000000\n",
      "dtype: float64\n"
     ]
    }
   ],
   "source": [
    "missing_values = df.isna().sum()\n",
    "\n",
    "print(\"Missing Values:\")\n",
    "print(missing_values)\n",
    "\n",
    "missing_percentage = (missing_values / len(df)) * 100\n",
    "print(\"\\nMissing Value Percentage:\")\n",
    "print(missing_percentage)"
   ]
  },
  {
   "cell_type": "code",
   "execution_count": 22,
   "id": "dd384243-f52a-4493-858b-c44508a6630f",
   "metadata": {},
   "outputs": [],
   "source": [
    "# deleting the remaining null values as they are less than 1% of data which can be neglected\n",
    "df = df.dropna()"
   ]
  },
  {
   "cell_type": "code",
   "execution_count": 23,
   "id": "5c08b5e7",
   "metadata": {},
   "outputs": [
    {
     "data": {
      "text/plain": [
       "id               0\n",
       "item_date        0\n",
       "quantity_tons    0\n",
       "customer         0\n",
       "country          0\n",
       "status           0\n",
       "item_type        0\n",
       "application      0\n",
       "thickness        0\n",
       "width            0\n",
       "material_ref     0\n",
       "product_ref      0\n",
       "delivery_date    0\n",
       "selling_price    0\n",
       "dtype: int64"
      ]
     },
     "execution_count": 23,
     "metadata": {},
     "output_type": "execute_result"
    }
   ],
   "source": [
    "df.isnull().sum()"
   ]
  },
  {
   "cell_type": "code",
   "execution_count": 25,
   "id": "712e32e3",
   "metadata": {},
   "outputs": [],
   "source": [
    "# Convert 'item_date' and 'delivery date' to datetime\n",
    "#df['item_date'] = pd.to_datetime(df['item_date'])\n",
    "#df['delivery_date'] = pd.to_datetime(df['delivery_date'])\n",
    "# Calculate the absolute difference in days between 'item_date' and 'delivery date'\n",
    "#df['delivery_period'] = (df['item_date'] - df['delivery_date']).abs().dt.days\n",
    "#df"
   ]
  },
  {
   "cell_type": "code",
   "execution_count": 26,
   "id": "25cb0887",
   "metadata": {},
   "outputs": [],
   "source": [
    "#Cat_Col = [i for i in df.columns if df[i].dtype == 'O']\n",
    "#Num_col = [i for i in df.columns if i not in Cat_Col]"
   ]
  },
  {
   "cell_type": "code",
   "execution_count": 24,
   "id": "347d115a",
   "metadata": {},
   "outputs": [],
   "source": [
    "from scipy.stats import skew"
   ]
  },
  {
   "cell_type": "code",
   "execution_count": 25,
   "id": "40aa981d-1215-431c-a825-1144160a9e47",
   "metadata": {},
   "outputs": [
    {
     "data": {
      "text/plain": [
       "quantity_tons    424.640554\n",
       "customer        -149.087305\n",
       "country            0.753549\n",
       "thickness        303.471088\n",
       "width              0.374858\n",
       "selling_price    301.352418\n",
       "dtype: float64"
      ]
     },
     "execution_count": 25,
     "metadata": {},
     "output_type": "execute_result"
    }
   ],
   "source": [
    "df.select_dtypes(include=['int64', 'float64']).skew()"
   ]
  },
  {
   "cell_type": "code",
   "execution_count": 26,
   "id": "65bc5e8c-d6ae-496b-a823-7402c8c91771",
   "metadata": {},
   "outputs": [],
   "source": [
    "import matplotlib.pyplot as plt\n",
    "import seaborn as sns"
   ]
  },
  {
   "cell_type": "code",
   "execution_count": 27,
   "id": "d3572bda",
   "metadata": {},
   "outputs": [
    {
     "data": {
      "image/png": "[encoded data removed]",
      "text/plain": [
       "<Figure size 1000x1000 with 6 Axes>"
      ]
     },
     "metadata": {},
     "output_type": "display_data"
    }
   ],
   "source": [
    "plt.figure(figsize=(10,10))\n",
    "plt.subplot(3,2,1)\n",
    "sns.distplot(df['quantity_tons'])\n",
    "skew_value = np.round(df['quantity_tons'].skew(), 2)\n",
    "plt.annotate(f'Skewness: {skew_value}', xy=(0.7, 0.9), xycoords='axes fraction', fontsize=10)\n",
    "plt.subplot(3,2,2)\n",
    "sns.distplot(df['country'])\n",
    "skew_value = np.round(df['country'].skew(), 2)\n",
    "plt.annotate(f'Skewness: {skew_value}', xy=(0.7, 0.9), xycoords='axes fraction', fontsize=10)\n",
    "plt.subplot(3,2,3)\n",
    "sns.distplot(df['application'])\n",
    "skew_value = np.round(df['application'].skew(), 2)\n",
    "plt.annotate(f'Skewness: {skew_value}', xy=(0.7, 0.9), xycoords='axes fraction', fontsize=10)\n",
    "plt.subplot(3,2,4)\n",
    "sns.distplot(df['thickness'])\n",
    "skew_value = np.round(df['thickness'].skew(), 2)\n",
    "plt.annotate(f'Skewness: {skew_value}', xy=(0.7, 0.9), xycoords='axes fraction', fontsize=10)\n",
    "plt.subplot(3,2,5)\n",
    "sns.distplot(df['width'])\n",
    "skew_value = np.round(df['width'].skew(), 2)\n",
    "plt.annotate(f'Skewness: {skew_value}', xy=(0.7, 0.9), xycoords='axes fraction', fontsize=10)\n",
    "plt.subplot(3,2,6)\n",
    "sns.distplot(df['selling_price'])\n",
    "skew_value = np.round(df['selling_price'].skew(), 2)\n",
    "plt.annotate(f'Skewness: {skew_value}', xy=(0.7, 0.9), xycoords='axes fraction', fontsize=10)\n",
    "plt.suptitle('Before Transformation - Skew plots')\n",
    "plt.tight_layout()\n",
    "plt.show()"
   ]
  },
  {
   "cell_type": "code",
   "execution_count": 30,
   "id": "ff5c1ca8",
   "metadata": {},
   "outputs": [],
   "source": [
    "df2 = df.copy()"
   ]
  },
  {
   "cell_type": "code",
   "execution_count": 33,
   "id": "457085f4",
   "metadata": {},
   "outputs": [],
   "source": [
    "columns = ['quantity_tons', 'thickness', 'selling_price']"
   ]
  },
  {
   "cell_type": "code",
   "execution_count": 34,
   "id": "e5781668",
   "metadata": {},
   "outputs": [],
   "source": [
    "import numpy as np\n",
    "def log_transformation(column):\n",
    "  for i in column:\n",
    "    df2[i] = np.log(df2[i])\n",
    "\n",
    "log_transformation(columns)"
   ]
  },
  {
   "cell_type": "markdown",
   "id": "b11fc79e",
   "metadata": {},
   "source": [
    "## Before Treating Outliers"
   ]
  },
  {
   "cell_type": "code",
   "execution_count": 31,
   "id": "e54ed594",
   "metadata": {},
   "outputs": [
    {
     "data": {
      "image/png": "[encoded data removed]",
      "text/plain": [
       "<Figure size 640x480 with 1 Axes>"
      ]
     },
     "metadata": {},
     "output_type": "display_data"
    },
    {
     "data": {
      "image/png": "[encoded data removed]",
      "text/plain": [
       "<Figure size 640x480 with 1 Axes>"
      ]
     },
     "metadata": {},
     "output_type": "display_data"
    },
    {
     "data": {
      "image/png": "[encoded data removed]",
      "text/plain": [
       "<Figure size 640x480 with 1 Axes>"
      ]
     },
     "metadata": {},
     "output_type": "display_data"
    },
    {
     "data": {
      "image/png": "[encoded data removed]",
      "text/plain": [
       "<Figure size 640x480 with 1 Axes>"
      ]
     },
     "metadata": {},
     "output_type": "display_data"
    }
   ],
   "source": [
    "def box_plot(columns):\n",
    "\n",
    "  for i in columns:\n",
    "    sns.boxplot(data=df2,x=i)\n",
    "    plt.show()\n",
    "\n",
    "box_plot(['quantity_tons','thickness','width','selling_price'])"
   ]
  },
  {
   "cell_type": "markdown",
   "id": "7dd8ed11",
   "metadata": {},
   "source": [
    "## After Treating Outliers"
   ]
  },
  {
   "cell_type": "code",
   "execution_count": 32,
   "id": "902b9d79",
   "metadata": {},
   "outputs": [
    {
     "name": "stdout",
     "output_type": "stream",
     "text": [
      "Done !!!!\n"
     ]
    }
   ],
   "source": [
    "def treat_outliers(column):\n",
    "  for i in column:\n",
    "    iqr = np.percentile(df2[i],75) - np.percentile(df2[i],25)  # Q3 - Q1\n",
    "    lower_bound =  np.percentile(df2[i],25) - (1.5 * iqr)\n",
    "    upper_bound = np.percentile(df2[i],75) + (1.5 * iqr)\n",
    "    df2[i] = df2[i].clip(lower_bound,upper_bound)\n",
    "  print('Done !!!!')\n",
    "\n",
    "treat_outliers(['quantity_tons','thickness','width','selling_price'])"
   ]
  },
  {
   "cell_type": "code",
   "execution_count": 33,
   "id": "24fcd96b",
   "metadata": {},
   "outputs": [
    {
     "data": {
      "image/png": "[encoded data removed]",
      "text/plain": [
       "<Figure size 640x480 with 1 Axes>"
      ]
     },
     "metadata": {},
     "output_type": "display_data"
    },
    {
     "data": {
      "image/png": "[encoded data removed]",
      "text/plain": [
       "<Figure size 640x480 with 1 Axes>"
      ]
     },
     "metadata": {},
     "output_type": "display_data"
    },
    {
     "data": {
      "image/png": "[encoded data removed]",
      "text/plain": [
       "<Figure size 640x480 with 1 Axes>"
      ]
     },
     "metadata": {},
     "output_type": "display_data"
    },
    {
     "data": {
      "image/png": "[encoded data removed]",
      "text/plain": [
       "<Figure size 640x480 with 1 Axes>"
      ]
     },
     "metadata": {},
     "output_type": "display_data"
    }
   ],
   "source": [
    "def box_plot(columns):\n",
    "\n",
    "  for i in columns:\n",
    "    sns.boxplot(data=df2,x=i)\n",
    "    plt.show()\n",
    "\n",
    "box_plot(['quantity_tons','thickness','width','selling_price'])"
   ]
  },
  {
   "cell_type": "code",
   "execution_count": 34,
   "id": "9dce66d1",
   "metadata": {},
   "outputs": [
    {
     "data": {
      "image/png": "[encoded data removed]",
      "text/plain": [
       "<Figure size 1000x1000 with 6 Axes>"
      ]
     },
     "metadata": {},
     "output_type": "display_data"
    }
   ],
   "source": [
    "plt.figure(figsize=(10,10))\n",
    "plt.subplot(3,2,1)\n",
    "sns.distplot(df2['quantity_tons'])\n",
    "skew_value = np.round(df2['quantity_tons'].skew(), 2)\n",
    "plt.annotate(f'Skewness: {skew_value}', xy=(0.7, 0.9), xycoords='axes fraction', fontsize=10)\n",
    "plt.subplot(3,2,2)\n",
    "sns.distplot(df2['country'])\n",
    "skew_value = np.round(df2['country'].skew(), 2)\n",
    "plt.annotate(f'Skewness: {skew_value}', xy=(0.7, 0.9), xycoords='axes fraction', fontsize=10)\n",
    "plt.subplot(3,2,3)\n",
    "sns.distplot(df2['application'])\n",
    "skew_value = np.round(df2['application'].skew(), 2)\n",
    "plt.annotate(f'Skewness: {skew_value}', xy=(0.7, 0.9), xycoords='axes fraction', fontsize=10)\n",
    "plt.subplot(3,2,4)\n",
    "sns.distplot(df2['thickness'])\n",
    "skew_value = np.round(df2['thickness'].skew(), 2)\n",
    "plt.annotate(f'Skewness: {skew_value}', xy=(0.7, 0.9), xycoords='axes fraction', fontsize=10)\n",
    "plt.subplot(3,2,5)\n",
    "sns.distplot(df2['width'])\n",
    "skew_value = np.round(df2['width'].skew(), 2)\n",
    "plt.annotate(f'Skewness: {skew_value}', xy=(0.7, 0.9), xycoords='axes fraction', fontsize=10)\n",
    "plt.subplot(3,2,6)\n",
    "sns.distplot(df2['selling_price'])\n",
    "skew_value = np.round(df2['selling_price'].skew(), 2)\n",
    "plt.annotate(f'Skewness: {skew_value}', xy=(0.7, 0.9), xycoords='axes fraction', fontsize=10)\n",
    "plt.suptitle('After Transformation - Skew plots')\n",
    "plt.tight_layout()\n",
    "plt.show()"
   ]
  },
  {
   "cell_type": "code",
   "execution_count": 35,
   "id": "a8620a8e",
   "metadata": {},
   "outputs": [
    {
     "data": {
      "text/plain": [
       "(181630, 14)"
      ]
     },
     "execution_count": 35,
     "metadata": {},
     "output_type": "execute_result"
    }
   ],
   "source": [
    "df2.shape"
   ]
  },
  {
   "cell_type": "code",
   "execution_count": 36,
   "id": "4733c33b",
   "metadata": {},
   "outputs": [
    {
     "data": {
      "text/plain": [
       "Index(['id', 'item_date', 'quantity_tons', 'customer', 'country', 'status',\n",
       "       'item_type', 'application', 'thickness', 'width', 'material_ref',\n",
       "       'product_ref', 'delivery_date', 'selling_price'],\n",
       "      dtype='object')"
      ]
     },
     "execution_count": 36,
     "metadata": {},
     "output_type": "execute_result"
    }
   ],
   "source": [
    "df2.columns"
   ]
  },
  {
   "cell_type": "code",
   "execution_count": 37,
   "id": "31633992",
   "metadata": {},
   "outputs": [],
   "source": [
    "columns_to_drop = ['id', 'item_date', 'material_ref', 'delivery_date']\n",
    "df2.drop(columns=columns_to_drop, inplace=True)"
   ]
  },
  {
   "cell_type": "code",
   "execution_count": 38,
   "id": "3bed5929",
   "metadata": {},
   "outputs": [],
   "source": [
    "ICM_df = df2.copy()"
   ]
  },
  {
   "cell_type": "code",
   "execution_count": 39,
   "id": "38651fca",
   "metadata": {
    "scrolled": true
   },
   "outputs": [
    {
     "data": {
      "text/html": [
       "<div>\n",
       "<style scoped>\n",
       "    .dataframe tbody tr th:only-of-type {\n",
       "        vertical-align: middle;\n",
       "    }\n",
       "\n",
       "    .dataframe tbody tr th {\n",
       "        vertical-align: top;\n",
       "    }\n",
       "\n",
       "    .dataframe thead th {\n",
       "        text-align: right;\n",
       "    }\n",
       "</style>\n",
       "<table border=\"1\" class=\"dataframe\">\n",
       "  <thead>\n",
       "    <tr style=\"text-align: right;\">\n",
       "      <th></th>\n",
       "      <th>quantity_tons</th>\n",
       "      <th>customer</th>\n",
       "      <th>country</th>\n",
       "      <th>status</th>\n",
       "      <th>item_type</th>\n",
       "      <th>application</th>\n",
       "      <th>thickness</th>\n",
       "      <th>width</th>\n",
       "      <th>product_ref</th>\n",
       "      <th>selling_price</th>\n",
       "    </tr>\n",
       "  </thead>\n",
       "  <tbody>\n",
       "    <tr>\n",
       "      <th>0</th>\n",
       "      <td>3.991779</td>\n",
       "      <td>30156308.0</td>\n",
       "      <td>28.0</td>\n",
       "      <td>Won</td>\n",
       "      <td>W</td>\n",
       "      <td>10.0</td>\n",
       "      <td>0.693147</td>\n",
       "      <td>1500.000</td>\n",
       "      <td>1670798778</td>\n",
       "      <td>6.749931</td>\n",
       "    </tr>\n",
       "    <tr>\n",
       "      <th>1</th>\n",
       "      <td>6.643822</td>\n",
       "      <td>30202938.0</td>\n",
       "      <td>25.0</td>\n",
       "      <td>Won</td>\n",
       "      <td>W</td>\n",
       "      <td>41.0</td>\n",
       "      <td>-0.223144</td>\n",
       "      <td>1210.000</td>\n",
       "      <td>1668701718</td>\n",
       "      <td>6.953684</td>\n",
       "    </tr>\n",
       "    <tr>\n",
       "      <th>2</th>\n",
       "      <td>5.956169</td>\n",
       "      <td>30153963.0</td>\n",
       "      <td>30.0</td>\n",
       "      <td>Won</td>\n",
       "      <td>WI</td>\n",
       "      <td>28.0</td>\n",
       "      <td>-0.967584</td>\n",
       "      <td>952.000</td>\n",
       "      <td>628377</td>\n",
       "      <td>6.468211</td>\n",
       "    </tr>\n",
       "    <tr>\n",
       "      <th>3</th>\n",
       "      <td>5.310301</td>\n",
       "      <td>30349574.0</td>\n",
       "      <td>32.0</td>\n",
       "      <td>Won</td>\n",
       "      <td>S</td>\n",
       "      <td>59.0</td>\n",
       "      <td>0.832909</td>\n",
       "      <td>1317.000</td>\n",
       "      <td>1668701718</td>\n",
       "      <td>6.643790</td>\n",
       "    </tr>\n",
       "    <tr>\n",
       "      <th>4</th>\n",
       "      <td>6.666354</td>\n",
       "      <td>30211560.0</td>\n",
       "      <td>28.0</td>\n",
       "      <td>Won</td>\n",
       "      <td>W</td>\n",
       "      <td>10.0</td>\n",
       "      <td>1.386294</td>\n",
       "      <td>1981.125</td>\n",
       "      <td>640665</td>\n",
       "      <td>6.357842</td>\n",
       "    </tr>\n",
       "    <tr>\n",
       "      <th>...</th>\n",
       "      <td>...</td>\n",
       "      <td>...</td>\n",
       "      <td>...</td>\n",
       "      <td>...</td>\n",
       "      <td>...</td>\n",
       "      <td>...</td>\n",
       "      <td>...</td>\n",
       "      <td>...</td>\n",
       "      <td>...</td>\n",
       "      <td>...</td>\n",
       "    </tr>\n",
       "    <tr>\n",
       "      <th>181667</th>\n",
       "      <td>4.670802</td>\n",
       "      <td>30200854.0</td>\n",
       "      <td>25.0</td>\n",
       "      <td>Won</td>\n",
       "      <td>W</td>\n",
       "      <td>41.0</td>\n",
       "      <td>-0.040822</td>\n",
       "      <td>1240.000</td>\n",
       "      <td>164141591</td>\n",
       "      <td>6.400257</td>\n",
       "    </tr>\n",
       "    <tr>\n",
       "      <th>181668</th>\n",
       "      <td>4.629691</td>\n",
       "      <td>30200854.0</td>\n",
       "      <td>25.0</td>\n",
       "      <td>Won</td>\n",
       "      <td>W</td>\n",
       "      <td>41.0</td>\n",
       "      <td>-0.040822</td>\n",
       "      <td>1220.000</td>\n",
       "      <td>164141591</td>\n",
       "      <td>6.381816</td>\n",
       "    </tr>\n",
       "    <tr>\n",
       "      <th>181669</th>\n",
       "      <td>5.337954</td>\n",
       "      <td>30200854.0</td>\n",
       "      <td>25.0</td>\n",
       "      <td>Won</td>\n",
       "      <td>W</td>\n",
       "      <td>41.0</td>\n",
       "      <td>-0.051293</td>\n",
       "      <td>1500.000</td>\n",
       "      <td>164141591</td>\n",
       "      <td>6.378426</td>\n",
       "    </tr>\n",
       "    <tr>\n",
       "      <th>181670</th>\n",
       "      <td>1.443523</td>\n",
       "      <td>30200854.0</td>\n",
       "      <td>25.0</td>\n",
       "      <td>Won</td>\n",
       "      <td>W</td>\n",
       "      <td>41.0</td>\n",
       "      <td>-0.342490</td>\n",
       "      <td>1250.000</td>\n",
       "      <td>164141591</td>\n",
       "      <td>6.428105</td>\n",
       "    </tr>\n",
       "    <tr>\n",
       "      <th>181672</th>\n",
       "      <td>6.008043</td>\n",
       "      <td>30200854.0</td>\n",
       "      <td>25.0</td>\n",
       "      <td>Won</td>\n",
       "      <td>W</td>\n",
       "      <td>41.0</td>\n",
       "      <td>-0.342490</td>\n",
       "      <td>1240.000</td>\n",
       "      <td>164141591</td>\n",
       "      <td>6.408529</td>\n",
       "    </tr>\n",
       "  </tbody>\n",
       "</table>\n",
       "<p>181630 rows × 10 columns</p>\n",
       "</div>"
      ],
      "text/plain": [
       "        quantity_tons    customer  country status item_type application  \\\n",
       "0            3.991779  30156308.0     28.0    Won         W        10.0   \n",
       "1            6.643822  30202938.0     25.0    Won         W        41.0   \n",
       "2            5.956169  30153963.0     30.0    Won        WI        28.0   \n",
       "3            5.310301  30349574.0     32.0    Won         S        59.0   \n",
       "4            6.666354  30211560.0     28.0    Won         W        10.0   \n",
       "...               ...         ...      ...    ...       ...         ...   \n",
       "181667       4.670802  30200854.0     25.0    Won         W        41.0   \n",
       "181668       4.629691  30200854.0     25.0    Won         W        41.0   \n",
       "181669       5.337954  30200854.0     25.0    Won         W        41.0   \n",
       "181670       1.443523  30200854.0     25.0    Won         W        41.0   \n",
       "181672       6.008043  30200854.0     25.0    Won         W        41.0   \n",
       "\n",
       "        thickness     width product_ref  selling_price  \n",
       "0        0.693147  1500.000  1670798778       6.749931  \n",
       "1       -0.223144  1210.000  1668701718       6.953684  \n",
       "2       -0.967584   952.000      628377       6.468211  \n",
       "3        0.832909  1317.000  1668701718       6.643790  \n",
       "4        1.386294  1981.125      640665       6.357842  \n",
       "...           ...       ...         ...            ...  \n",
       "181667  -0.040822  1240.000   164141591       6.400257  \n",
       "181668  -0.040822  1220.000   164141591       6.381816  \n",
       "181669  -0.051293  1500.000   164141591       6.378426  \n",
       "181670  -0.342490  1250.000   164141591       6.428105  \n",
       "181672  -0.342490  1240.000   164141591       6.408529  \n",
       "\n",
       "[181630 rows x 10 columns]"
      ]
     },
     "execution_count": 39,
     "metadata": {},
     "output_type": "execute_result"
    }
   ],
   "source": [
    "ICM_df"
   ]
  },
  {
   "cell_type": "markdown",
   "id": "d2f178a3",
   "metadata": {},
   "source": [
    "# Correlation"
   ]
  },
  {
   "cell_type": "code",
   "execution_count": 43,
   "id": "a172c6fb",
   "metadata": {},
   "outputs": [],
   "source": [
    "# values close to 1 indicate a strong positive correlation, \n",
    "# values close to -1 indicate a strong negative correlation, \n",
    "# and values close to 0 indicate little to no correlation."
   ]
  },
  {
   "cell_type": "code",
   "execution_count": 40,
   "id": "35946ff9",
   "metadata": {},
   "outputs": [
    {
     "data": {
      "image/png": "[encoded data removed]",
      "text/plain": [
       "<Figure size 800x600 with 2 Axes>"
      ]
     },
     "metadata": {},
     "output_type": "display_data"
    }
   ],
   "source": [
    "x=ICM_df[['quantity_tons','application','thickness','width','selling_price','country','customer','product_ref']].corr()\n",
    "plt.figure(figsize=(8, 6))\n",
    "sns.heatmap(x, annot=True, fmt=\".2f\", cmap=\"YlGnBu\", center=0)\n",
    "plt.title('Correlation Heatmap')\n",
    "plt.show()"
   ]
  },
  {
   "cell_type": "code",
   "execution_count": 41,
   "id": "7f49ae06",
   "metadata": {},
   "outputs": [],
   "source": [
    "# Convert Categorical data into continous data\n",
    "from sklearn.preprocessing import OrdinalEncoder\n",
    "encoder = OrdinalEncoder()"
   ]
  },
  {
   "cell_type": "code",
   "execution_count": 42,
   "id": "9747d8f7",
   "metadata": {},
   "outputs": [
    {
     "data": {
      "text/plain": [
       "array(['Won', 'Draft', 'To be approved', 'Lost', 'Not lost for AM',\n",
       "       'Wonderful', 'Revised', 'Offered', 'Offerable'], dtype=object)"
      ]
     },
     "execution_count": 42,
     "metadata": {},
     "output_type": "execute_result"
    }
   ],
   "source": [
    "# Before Conversion\n",
    "ICM_df['status'].unique()"
   ]
  },
  {
   "cell_type": "code",
   "execution_count": 43,
   "id": "d7d73a38",
   "metadata": {},
   "outputs": [],
   "source": [
    "# Conversion Process\n",
    "ICM_df['status'] = ICM_df['status'].map({'Won':1, 'Draft':2, 'To be approved':3, 'Lost':0, 'Not lost for AM':5,\n",
    "       'Wonderful':6, 'Revised':7, 'Offered':8, 'Offerable':4})"
   ]
  },
  {
   "cell_type": "code",
   "execution_count": 44,
   "id": "824a5906",
   "metadata": {},
   "outputs": [
    {
     "data": {
      "text/plain": [
       "array([1, 2, 3, 0, 5, 6, 7, 8, 4], dtype=int64)"
      ]
     },
     "execution_count": 44,
     "metadata": {},
     "output_type": "execute_result"
    }
   ],
   "source": [
    "# After Conversion\n",
    "ICM_df['status'].unique()"
   ]
  },
  {
   "cell_type": "code",
   "execution_count": 45,
   "id": "3695b977",
   "metadata": {},
   "outputs": [
    {
     "data": {
      "text/plain": [
       "array(['W', 'WI', 'S', 'Others', 'PL', 'IPL', 'SLAWR'], dtype=object)"
      ]
     },
     "execution_count": 45,
     "metadata": {},
     "output_type": "execute_result"
    }
   ],
   "source": [
    "# Before Converion\n",
    "ICM_df['item_type'].unique()"
   ]
  },
  {
   "cell_type": "code",
   "execution_count": 46,
   "id": "55c881ed",
   "metadata": {},
   "outputs": [],
   "source": [
    "# Conversion Process\n",
    "ICM_df['item_type'] = encoder.fit_transform(ICM_df[['item_type']])"
   ]
  },
  {
   "cell_type": "code",
   "execution_count": 47,
   "id": "6486b1e8",
   "metadata": {},
   "outputs": [
    {
     "data": {
      "text/plain": [
       "array([5., 6., 3., 1., 2., 0., 4.])"
      ]
     },
     "execution_count": 47,
     "metadata": {},
     "output_type": "execute_result"
    }
   ],
   "source": [
    "# After Conversion\n",
    "ICM_df['item_type'].unique()"
   ]
  },
  {
   "cell_type": "code",
   "execution_count": 48,
   "id": "547104a0",
   "metadata": {},
   "outputs": [],
   "source": [
    "ICM_df = ICM_df.query('status==1 or status ==0')"
   ]
  },
  {
   "cell_type": "code",
   "execution_count": 49,
   "id": "0280e006",
   "metadata": {},
   "outputs": [
    {
     "data": {
      "text/html": [
       "<div>\n",
       "<style scoped>\n",
       "    .dataframe tbody tr th:only-of-type {\n",
       "        vertical-align: middle;\n",
       "    }\n",
       "\n",
       "    .dataframe tbody tr th {\n",
       "        vertical-align: top;\n",
       "    }\n",
       "\n",
       "    .dataframe thead th {\n",
       "        text-align: right;\n",
       "    }\n",
       "</style>\n",
       "<table border=\"1\" class=\"dataframe\">\n",
       "  <thead>\n",
       "    <tr style=\"text-align: right;\">\n",
       "      <th></th>\n",
       "      <th>quantity_tons</th>\n",
       "      <th>customer</th>\n",
       "      <th>country</th>\n",
       "      <th>status</th>\n",
       "      <th>item_type</th>\n",
       "      <th>application</th>\n",
       "      <th>thickness</th>\n",
       "      <th>width</th>\n",
       "      <th>product_ref</th>\n",
       "      <th>selling_price</th>\n",
       "    </tr>\n",
       "  </thead>\n",
       "  <tbody>\n",
       "    <tr>\n",
       "      <th>0</th>\n",
       "      <td>3.991779</td>\n",
       "      <td>30156308.0</td>\n",
       "      <td>28.0</td>\n",
       "      <td>1</td>\n",
       "      <td>5.0</td>\n",
       "      <td>10.0</td>\n",
       "      <td>0.693147</td>\n",
       "      <td>1500.000</td>\n",
       "      <td>1670798778</td>\n",
       "      <td>6.749931</td>\n",
       "    </tr>\n",
       "    <tr>\n",
       "      <th>1</th>\n",
       "      <td>6.643822</td>\n",
       "      <td>30202938.0</td>\n",
       "      <td>25.0</td>\n",
       "      <td>1</td>\n",
       "      <td>5.0</td>\n",
       "      <td>41.0</td>\n",
       "      <td>-0.223144</td>\n",
       "      <td>1210.000</td>\n",
       "      <td>1668701718</td>\n",
       "      <td>6.953684</td>\n",
       "    </tr>\n",
       "    <tr>\n",
       "      <th>2</th>\n",
       "      <td>5.956169</td>\n",
       "      <td>30153963.0</td>\n",
       "      <td>30.0</td>\n",
       "      <td>1</td>\n",
       "      <td>6.0</td>\n",
       "      <td>28.0</td>\n",
       "      <td>-0.967584</td>\n",
       "      <td>952.000</td>\n",
       "      <td>628377</td>\n",
       "      <td>6.468211</td>\n",
       "    </tr>\n",
       "    <tr>\n",
       "      <th>3</th>\n",
       "      <td>5.310301</td>\n",
       "      <td>30349574.0</td>\n",
       "      <td>32.0</td>\n",
       "      <td>1</td>\n",
       "      <td>3.0</td>\n",
       "      <td>59.0</td>\n",
       "      <td>0.832909</td>\n",
       "      <td>1317.000</td>\n",
       "      <td>1668701718</td>\n",
       "      <td>6.643790</td>\n",
       "    </tr>\n",
       "    <tr>\n",
       "      <th>4</th>\n",
       "      <td>6.666354</td>\n",
       "      <td>30211560.0</td>\n",
       "      <td>28.0</td>\n",
       "      <td>1</td>\n",
       "      <td>5.0</td>\n",
       "      <td>10.0</td>\n",
       "      <td>1.386294</td>\n",
       "      <td>1981.125</td>\n",
       "      <td>640665</td>\n",
       "      <td>6.357842</td>\n",
       "    </tr>\n",
       "    <tr>\n",
       "      <th>...</th>\n",
       "      <td>...</td>\n",
       "      <td>...</td>\n",
       "      <td>...</td>\n",
       "      <td>...</td>\n",
       "      <td>...</td>\n",
       "      <td>...</td>\n",
       "      <td>...</td>\n",
       "      <td>...</td>\n",
       "      <td>...</td>\n",
       "      <td>...</td>\n",
       "    </tr>\n",
       "    <tr>\n",
       "      <th>181667</th>\n",
       "      <td>4.670802</td>\n",
       "      <td>30200854.0</td>\n",
       "      <td>25.0</td>\n",
       "      <td>1</td>\n",
       "      <td>5.0</td>\n",
       "      <td>41.0</td>\n",
       "      <td>-0.040822</td>\n",
       "      <td>1240.000</td>\n",
       "      <td>164141591</td>\n",
       "      <td>6.400257</td>\n",
       "    </tr>\n",
       "    <tr>\n",
       "      <th>181668</th>\n",
       "      <td>4.629691</td>\n",
       "      <td>30200854.0</td>\n",
       "      <td>25.0</td>\n",
       "      <td>1</td>\n",
       "      <td>5.0</td>\n",
       "      <td>41.0</td>\n",
       "      <td>-0.040822</td>\n",
       "      <td>1220.000</td>\n",
       "      <td>164141591</td>\n",
       "      <td>6.381816</td>\n",
       "    </tr>\n",
       "    <tr>\n",
       "      <th>181669</th>\n",
       "      <td>5.337954</td>\n",
       "      <td>30200854.0</td>\n",
       "      <td>25.0</td>\n",
       "      <td>1</td>\n",
       "      <td>5.0</td>\n",
       "      <td>41.0</td>\n",
       "      <td>-0.051293</td>\n",
       "      <td>1500.000</td>\n",
       "      <td>164141591</td>\n",
       "      <td>6.378426</td>\n",
       "    </tr>\n",
       "    <tr>\n",
       "      <th>181670</th>\n",
       "      <td>1.443523</td>\n",
       "      <td>30200854.0</td>\n",
       "      <td>25.0</td>\n",
       "      <td>1</td>\n",
       "      <td>5.0</td>\n",
       "      <td>41.0</td>\n",
       "      <td>-0.342490</td>\n",
       "      <td>1250.000</td>\n",
       "      <td>164141591</td>\n",
       "      <td>6.428105</td>\n",
       "    </tr>\n",
       "    <tr>\n",
       "      <th>181672</th>\n",
       "      <td>6.008043</td>\n",
       "      <td>30200854.0</td>\n",
       "      <td>25.0</td>\n",
       "      <td>1</td>\n",
       "      <td>5.0</td>\n",
       "      <td>41.0</td>\n",
       "      <td>-0.342490</td>\n",
       "      <td>1240.000</td>\n",
       "      <td>164141591</td>\n",
       "      <td>6.408529</td>\n",
       "    </tr>\n",
       "  </tbody>\n",
       "</table>\n",
       "<p>150434 rows × 10 columns</p>\n",
       "</div>"
      ],
      "text/plain": [
       "        quantity_tons    customer  country  status  item_type application  \\\n",
       "0            3.991779  30156308.0     28.0       1        5.0        10.0   \n",
       "1            6.643822  30202938.0     25.0       1        5.0        41.0   \n",
       "2            5.956169  30153963.0     30.0       1        6.0        28.0   \n",
       "3            5.310301  30349574.0     32.0       1        3.0        59.0   \n",
       "4            6.666354  30211560.0     28.0       1        5.0        10.0   \n",
       "...               ...         ...      ...     ...        ...         ...   \n",
       "181667       4.670802  30200854.0     25.0       1        5.0        41.0   \n",
       "181668       4.629691  30200854.0     25.0       1        5.0        41.0   \n",
       "181669       5.337954  30200854.0     25.0       1        5.0        41.0   \n",
       "181670       1.443523  30200854.0     25.0       1        5.0        41.0   \n",
       "181672       6.008043  30200854.0     25.0       1        5.0        41.0   \n",
       "\n",
       "        thickness     width product_ref  selling_price  \n",
       "0        0.693147  1500.000  1670798778       6.749931  \n",
       "1       -0.223144  1210.000  1668701718       6.953684  \n",
       "2       -0.967584   952.000      628377       6.468211  \n",
       "3        0.832909  1317.000  1668701718       6.643790  \n",
       "4        1.386294  1981.125      640665       6.357842  \n",
       "...           ...       ...         ...            ...  \n",
       "181667  -0.040822  1240.000   164141591       6.400257  \n",
       "181668  -0.040822  1220.000   164141591       6.381816  \n",
       "181669  -0.051293  1500.000   164141591       6.378426  \n",
       "181670  -0.342490  1250.000   164141591       6.428105  \n",
       "181672  -0.342490  1240.000   164141591       6.408529  \n",
       "\n",
       "[150434 rows x 10 columns]"
      ]
     },
     "execution_count": 49,
     "metadata": {},
     "output_type": "execute_result"
    }
   ],
   "source": [
    "ICM_df"
   ]
  },
  {
   "cell_type": "code",
   "execution_count": 50,
   "id": "b3c3fa13",
   "metadata": {},
   "outputs": [
    {
     "data": {
      "text/plain": [
       "status\n",
       "1    116002\n",
       "0     34432\n",
       "Name: count, dtype: int64"
      ]
     },
     "execution_count": 50,
     "metadata": {},
     "output_type": "execute_result"
    }
   ],
   "source": [
    "ICM_df.status.value_counts()"
   ]
  },
  {
   "cell_type": "code",
   "execution_count": 52,
   "id": "ef29b6e0",
   "metadata": {},
   "outputs": [
    {
     "data": {
      "text/plain": [
       "item_type\n",
       "5.0    91950\n",
       "3.0    52457\n",
       "2.0     5032\n",
       "6.0      504\n",
       "1.0      463\n",
       "0.0       27\n",
       "4.0        1\n",
       "Name: count, dtype: int64"
      ]
     },
     "execution_count": 52,
     "metadata": {},
     "output_type": "execute_result"
    }
   ],
   "source": [
    "ICM_df[\"item_type\"].value_counts()"
   ]
  },
  {
   "cell_type": "code",
   "execution_count": 53,
   "id": "8a39c7b4",
   "metadata": {},
   "outputs": [],
   "source": [
    "ICM_df.to_csv('cleaned_data_ICM.csv', index=False)"
   ]
  },
  {
   "cell_type": "code",
   "execution_count": 55,
   "id": "8f49a142",
   "metadata": {},
   "outputs": [
    {
     "data": {
      "text/html": [
       "<div>\n",
       "<style scoped>\n",
       "    .dataframe tbody tr th:only-of-type {\n",
       "        vertical-align: middle;\n",
       "    }\n",
       "\n",
       "    .dataframe tbody tr th {\n",
       "        vertical-align: top;\n",
       "    }\n",
       "\n",
       "    .dataframe thead th {\n",
       "        text-align: right;\n",
       "    }\n",
       "</style>\n",
       "<table border=\"1\" class=\"dataframe\">\n",
       "  <thead>\n",
       "    <tr style=\"text-align: right;\">\n",
       "      <th></th>\n",
       "      <th>quantity_tons</th>\n",
       "      <th>customer</th>\n",
       "      <th>country</th>\n",
       "      <th>status</th>\n",
       "      <th>item_type</th>\n",
       "      <th>application</th>\n",
       "      <th>thickness</th>\n",
       "      <th>width</th>\n",
       "      <th>product_ref</th>\n",
       "      <th>selling_price</th>\n",
       "    </tr>\n",
       "  </thead>\n",
       "  <tbody>\n",
       "    <tr>\n",
       "      <th>0</th>\n",
       "      <td>3.991779</td>\n",
       "      <td>30156308.0</td>\n",
       "      <td>28.0</td>\n",
       "      <td>Won</td>\n",
       "      <td>W</td>\n",
       "      <td>10.0</td>\n",
       "      <td>0.693147</td>\n",
       "      <td>1500.000</td>\n",
       "      <td>1670798778</td>\n",
       "      <td>6.749931</td>\n",
       "    </tr>\n",
       "    <tr>\n",
       "      <th>1</th>\n",
       "      <td>6.643822</td>\n",
       "      <td>30202938.0</td>\n",
       "      <td>25.0</td>\n",
       "      <td>Won</td>\n",
       "      <td>W</td>\n",
       "      <td>41.0</td>\n",
       "      <td>-0.223144</td>\n",
       "      <td>1210.000</td>\n",
       "      <td>1668701718</td>\n",
       "      <td>6.953684</td>\n",
       "    </tr>\n",
       "    <tr>\n",
       "      <th>2</th>\n",
       "      <td>5.956169</td>\n",
       "      <td>30153963.0</td>\n",
       "      <td>30.0</td>\n",
       "      <td>Won</td>\n",
       "      <td>WI</td>\n",
       "      <td>28.0</td>\n",
       "      <td>-0.967584</td>\n",
       "      <td>952.000</td>\n",
       "      <td>628377</td>\n",
       "      <td>6.468211</td>\n",
       "    </tr>\n",
       "    <tr>\n",
       "      <th>3</th>\n",
       "      <td>5.310301</td>\n",
       "      <td>30349574.0</td>\n",
       "      <td>32.0</td>\n",
       "      <td>Won</td>\n",
       "      <td>S</td>\n",
       "      <td>59.0</td>\n",
       "      <td>0.832909</td>\n",
       "      <td>1317.000</td>\n",
       "      <td>1668701718</td>\n",
       "      <td>6.643790</td>\n",
       "    </tr>\n",
       "    <tr>\n",
       "      <th>4</th>\n",
       "      <td>6.666354</td>\n",
       "      <td>30211560.0</td>\n",
       "      <td>28.0</td>\n",
       "      <td>Won</td>\n",
       "      <td>W</td>\n",
       "      <td>10.0</td>\n",
       "      <td>1.386294</td>\n",
       "      <td>1981.125</td>\n",
       "      <td>640665</td>\n",
       "      <td>6.357842</td>\n",
       "    </tr>\n",
       "    <tr>\n",
       "      <th>...</th>\n",
       "      <td>...</td>\n",
       "      <td>...</td>\n",
       "      <td>...</td>\n",
       "      <td>...</td>\n",
       "      <td>...</td>\n",
       "      <td>...</td>\n",
       "      <td>...</td>\n",
       "      <td>...</td>\n",
       "      <td>...</td>\n",
       "      <td>...</td>\n",
       "    </tr>\n",
       "    <tr>\n",
       "      <th>181667</th>\n",
       "      <td>4.670802</td>\n",
       "      <td>30200854.0</td>\n",
       "      <td>25.0</td>\n",
       "      <td>Won</td>\n",
       "      <td>W</td>\n",
       "      <td>41.0</td>\n",
       "      <td>-0.040822</td>\n",
       "      <td>1240.000</td>\n",
       "      <td>164141591</td>\n",
       "      <td>6.400257</td>\n",
       "    </tr>\n",
       "    <tr>\n",
       "      <th>181668</th>\n",
       "      <td>4.629691</td>\n",
       "      <td>30200854.0</td>\n",
       "      <td>25.0</td>\n",
       "      <td>Won</td>\n",
       "      <td>W</td>\n",
       "      <td>41.0</td>\n",
       "      <td>-0.040822</td>\n",
       "      <td>1220.000</td>\n",
       "      <td>164141591</td>\n",
       "      <td>6.381816</td>\n",
       "    </tr>\n",
       "    <tr>\n",
       "      <th>181669</th>\n",
       "      <td>5.337954</td>\n",
       "      <td>30200854.0</td>\n",
       "      <td>25.0</td>\n",
       "      <td>Won</td>\n",
       "      <td>W</td>\n",
       "      <td>41.0</td>\n",
       "      <td>-0.051293</td>\n",
       "      <td>1500.000</td>\n",
       "      <td>164141591</td>\n",
       "      <td>6.378426</td>\n",
       "    </tr>\n",
       "    <tr>\n",
       "      <th>181670</th>\n",
       "      <td>1.443523</td>\n",
       "      <td>30200854.0</td>\n",
       "      <td>25.0</td>\n",
       "      <td>Won</td>\n",
       "      <td>W</td>\n",
       "      <td>41.0</td>\n",
       "      <td>-0.342490</td>\n",
       "      <td>1250.000</td>\n",
       "      <td>164141591</td>\n",
       "      <td>6.428105</td>\n",
       "    </tr>\n",
       "    <tr>\n",
       "      <th>181672</th>\n",
       "      <td>6.008043</td>\n",
       "      <td>30200854.0</td>\n",
       "      <td>25.0</td>\n",
       "      <td>Won</td>\n",
       "      <td>W</td>\n",
       "      <td>41.0</td>\n",
       "      <td>-0.342490</td>\n",
       "      <td>1240.000</td>\n",
       "      <td>164141591</td>\n",
       "      <td>6.408529</td>\n",
       "    </tr>\n",
       "  </tbody>\n",
       "</table>\n",
       "<p>181630 rows × 10 columns</p>\n",
       "</div>"
      ],
      "text/plain": [
       "        quantity_tons    customer  country status item_type application  \\\n",
       "0            3.991779  30156308.0     28.0    Won         W        10.0   \n",
       "1            6.643822  30202938.0     25.0    Won         W        41.0   \n",
       "2            5.956169  30153963.0     30.0    Won        WI        28.0   \n",
       "3            5.310301  30349574.0     32.0    Won         S        59.0   \n",
       "4            6.666354  30211560.0     28.0    Won         W        10.0   \n",
       "...               ...         ...      ...    ...       ...         ...   \n",
       "181667       4.670802  30200854.0     25.0    Won         W        41.0   \n",
       "181668       4.629691  30200854.0     25.0    Won         W        41.0   \n",
       "181669       5.337954  30200854.0     25.0    Won         W        41.0   \n",
       "181670       1.443523  30200854.0     25.0    Won         W        41.0   \n",
       "181672       6.008043  30200854.0     25.0    Won         W        41.0   \n",
       "\n",
       "        thickness     width product_ref  selling_price  \n",
       "0        0.693147  1500.000  1670798778       6.749931  \n",
       "1       -0.223144  1210.000  1668701718       6.953684  \n",
       "2       -0.967584   952.000      628377       6.468211  \n",
       "3        0.832909  1317.000  1668701718       6.643790  \n",
       "4        1.386294  1981.125      640665       6.357842  \n",
       "...           ...       ...         ...            ...  \n",
       "181667  -0.040822  1240.000   164141591       6.400257  \n",
       "181668  -0.040822  1220.000   164141591       6.381816  \n",
       "181669  -0.051293  1500.000   164141591       6.378426  \n",
       "181670  -0.342490  1250.000   164141591       6.428105  \n",
       "181672  -0.342490  1240.000   164141591       6.408529  \n",
       "\n",
       "[181630 rows x 10 columns]"
      ]
     },
     "execution_count": 55,
     "metadata": {},
     "output_type": "execute_result"
    }
   ],
   "source": [
    "df2"
   ]
  },
  {
   "cell_type": "code",
   "execution_count": 56,
   "id": "0b612773",
   "metadata": {},
   "outputs": [
    {
     "data": {
      "text/plain": [
       "array(['Won', 'Draft', 'To be approved', 'Lost', 'Not lost for AM',\n",
       "       'Wonderful', 'Revised', 'Offered', 'Offerable'], dtype=object)"
      ]
     },
     "execution_count": 56,
     "metadata": {},
     "output_type": "execute_result"
    }
   ],
   "source": [
    "# Before Conversion\n",
    "df2['status'].unique()"
   ]
  },
  {
   "cell_type": "code",
   "execution_count": 58,
   "id": "8290bf08",
   "metadata": {},
   "outputs": [],
   "source": [
    "# Conversion Process\n",
    "df2['status'] = df2['status'].map({'Won':1, 'Draft':2, 'To be approved':3, 'Lost':0, 'Not lost for AM':5,\n",
    "       'Wonderful':6, 'Revised':7, 'Offered':8, 'Offerable':4})"
   ]
  },
  {
   "cell_type": "code",
   "execution_count": 59,
   "id": "0ab7aa61",
   "metadata": {},
   "outputs": [
    {
     "data": {
      "text/plain": [
       "array([1, 2, 3, 0, 5, 6, 7, 8, 4], dtype=int64)"
      ]
     },
     "execution_count": 59,
     "metadata": {},
     "output_type": "execute_result"
    }
   ],
   "source": [
    "# After Conversion\n",
    "df2['status'].unique()"
   ]
  },
  {
   "cell_type": "code",
   "execution_count": 60,
   "id": "49a33158",
   "metadata": {},
   "outputs": [
    {
     "data": {
      "text/plain": [
       "array(['W', 'WI', 'S', 'Others', 'PL', 'IPL', 'SLAWR'], dtype=object)"
      ]
     },
     "execution_count": 60,
     "metadata": {},
     "output_type": "execute_result"
    }
   ],
   "source": [
    "# Before Converion\n",
    "df2['item_type'].unique()"
   ]
  },
  {
   "cell_type": "code",
   "execution_count": 61,
   "id": "2441a008",
   "metadata": {},
   "outputs": [],
   "source": [
    "# Conversion Process\n",
    "df2['item_type'] = encoder.fit_transform(df2[['item_type']])"
   ]
  },
  {
   "cell_type": "code",
   "execution_count": 62,
   "id": "3603d1e5",
   "metadata": {},
   "outputs": [
    {
     "data": {
      "text/plain": [
       "array([5., 6., 3., 1., 2., 0., 4.])"
      ]
     },
     "execution_count": 62,
     "metadata": {},
     "output_type": "execute_result"
    }
   ],
   "source": [
    "# After Conversion\n",
    "df2['item_type'].unique()"
   ]
  },
  {
   "cell_type": "code",
   "execution_count": 63,
   "id": "81bd9998",
   "metadata": {},
   "outputs": [
    {
     "data": {
      "text/plain": [
       "status\n",
       "1    116002\n",
       "0     34432\n",
       "5     19568\n",
       "7      4276\n",
       "3      4168\n",
       "2      3120\n",
       "8        53\n",
       "4        10\n",
       "6         1\n",
       "Name: count, dtype: int64"
      ]
     },
     "execution_count": 63,
     "metadata": {},
     "output_type": "execute_result"
    }
   ],
   "source": [
    "df2.status.value_counts()"
   ]
  },
  {
   "cell_type": "code",
   "execution_count": 64,
   "id": "543cfd56",
   "metadata": {},
   "outputs": [
    {
     "data": {
      "text/plain": [
       "item_type\n",
       "5.0    105607\n",
       "3.0     69201\n",
       "2.0      5660\n",
       "1.0       610\n",
       "6.0       524\n",
       "0.0        27\n",
       "4.0         1\n",
       "Name: count, dtype: int64"
      ]
     },
     "execution_count": 64,
     "metadata": {},
     "output_type": "execute_result"
    }
   ],
   "source": [
    "df2[\"item_type\"].value_counts()"
   ]
  },
  {
   "cell_type": "code",
   "execution_count": 65,
   "id": "5b513d61",
   "metadata": {},
   "outputs": [],
   "source": [
    "df2.to_csv('cleaned_data_ICM_rpred.csv', index=False)"
   ]
  },
  {
   "cell_type": "markdown",
   "id": "61a5afaf",
   "metadata": {},
   "source": [
    "# Its done"
   ]
  },
  {
   "cell_type": "markdown",
   "id": "fd347255",
   "metadata": {},
   "source": [
    "## Unbalanced Data"
   ]
  },
  {
   "cell_type": "code",
   "execution_count": 54,
   "id": "8db7fe0e",
   "metadata": {},
   "outputs": [
    {
     "data": {
      "text/plain": [
       "status\n",
       "1    77.111557\n",
       "0    22.888443\n",
       "Name: proportion, dtype: float64"
      ]
     },
     "execution_count": 54,
     "metadata": {},
     "output_type": "execute_result"
    }
   ],
   "source": [
    "ICM_df.status.value_counts(normalize=True)*100"
   ]
  },
  {
   "cell_type": "raw",
   "id": "904f98f3",
   "metadata": {},
   "source": [
    "# In Our Data we 77% of Won datapoint and 22% of Lost data point , So In predict it will mislead"
   ]
  },
  {
   "cell_type": "markdown",
   "id": "93da6030",
   "metadata": {},
   "source": [
    "### Rectify Balanced Data -- Using Oversampling"
   ]
  },
  {
   "cell_type": "code",
   "execution_count": 55,
   "id": "6382c1c1",
   "metadata": {},
   "outputs": [],
   "source": [
    "x = ICM_df.drop('status',axis=1)\n",
    "y = ICM_df['status']"
   ]
  },
  {
   "cell_type": "code",
   "execution_count": 56,
   "id": "3aa2e588",
   "metadata": {},
   "outputs": [
    {
     "data": {
      "text/html": [
       "<div>\n",
       "<style scoped>\n",
       "    .dataframe tbody tr th:only-of-type {\n",
       "        vertical-align: middle;\n",
       "    }\n",
       "\n",
       "    .dataframe tbody tr th {\n",
       "        vertical-align: top;\n",
       "    }\n",
       "\n",
       "    .dataframe thead th {\n",
       "        text-align: right;\n",
       "    }\n",
       "</style>\n",
       "<table border=\"1\" class=\"dataframe\">\n",
       "  <thead>\n",
       "    <tr style=\"text-align: right;\">\n",
       "      <th></th>\n",
       "      <th>quantity_tons</th>\n",
       "      <th>customer</th>\n",
       "      <th>country</th>\n",
       "      <th>item_type</th>\n",
       "      <th>application</th>\n",
       "      <th>thickness</th>\n",
       "      <th>width</th>\n",
       "      <th>product_ref</th>\n",
       "      <th>selling_price</th>\n",
       "    </tr>\n",
       "  </thead>\n",
       "  <tbody>\n",
       "    <tr>\n",
       "      <th>0</th>\n",
       "      <td>3.991779</td>\n",
       "      <td>30156308.0</td>\n",
       "      <td>28.0</td>\n",
       "      <td>5.0</td>\n",
       "      <td>10.0</td>\n",
       "      <td>0.693147</td>\n",
       "      <td>1500.000</td>\n",
       "      <td>1670798778</td>\n",
       "      <td>6.749931</td>\n",
       "    </tr>\n",
       "    <tr>\n",
       "      <th>1</th>\n",
       "      <td>6.643822</td>\n",
       "      <td>30202938.0</td>\n",
       "      <td>25.0</td>\n",
       "      <td>5.0</td>\n",
       "      <td>41.0</td>\n",
       "      <td>-0.223144</td>\n",
       "      <td>1210.000</td>\n",
       "      <td>1668701718</td>\n",
       "      <td>6.953684</td>\n",
       "    </tr>\n",
       "    <tr>\n",
       "      <th>2</th>\n",
       "      <td>5.956169</td>\n",
       "      <td>30153963.0</td>\n",
       "      <td>30.0</td>\n",
       "      <td>6.0</td>\n",
       "      <td>28.0</td>\n",
       "      <td>-0.967584</td>\n",
       "      <td>952.000</td>\n",
       "      <td>628377</td>\n",
       "      <td>6.468211</td>\n",
       "    </tr>\n",
       "    <tr>\n",
       "      <th>3</th>\n",
       "      <td>5.310301</td>\n",
       "      <td>30349574.0</td>\n",
       "      <td>32.0</td>\n",
       "      <td>3.0</td>\n",
       "      <td>59.0</td>\n",
       "      <td>0.832909</td>\n",
       "      <td>1317.000</td>\n",
       "      <td>1668701718</td>\n",
       "      <td>6.643790</td>\n",
       "    </tr>\n",
       "    <tr>\n",
       "      <th>4</th>\n",
       "      <td>6.666354</td>\n",
       "      <td>30211560.0</td>\n",
       "      <td>28.0</td>\n",
       "      <td>5.0</td>\n",
       "      <td>10.0</td>\n",
       "      <td>1.386294</td>\n",
       "      <td>1981.125</td>\n",
       "      <td>640665</td>\n",
       "      <td>6.357842</td>\n",
       "    </tr>\n",
       "    <tr>\n",
       "      <th>...</th>\n",
       "      <td>...</td>\n",
       "      <td>...</td>\n",
       "      <td>...</td>\n",
       "      <td>...</td>\n",
       "      <td>...</td>\n",
       "      <td>...</td>\n",
       "      <td>...</td>\n",
       "      <td>...</td>\n",
       "      <td>...</td>\n",
       "    </tr>\n",
       "    <tr>\n",
       "      <th>181667</th>\n",
       "      <td>4.670802</td>\n",
       "      <td>30200854.0</td>\n",
       "      <td>25.0</td>\n",
       "      <td>5.0</td>\n",
       "      <td>41.0</td>\n",
       "      <td>-0.040822</td>\n",
       "      <td>1240.000</td>\n",
       "      <td>164141591</td>\n",
       "      <td>6.400257</td>\n",
       "    </tr>\n",
       "    <tr>\n",
       "      <th>181668</th>\n",
       "      <td>4.629691</td>\n",
       "      <td>30200854.0</td>\n",
       "      <td>25.0</td>\n",
       "      <td>5.0</td>\n",
       "      <td>41.0</td>\n",
       "      <td>-0.040822</td>\n",
       "      <td>1220.000</td>\n",
       "      <td>164141591</td>\n",
       "      <td>6.381816</td>\n",
       "    </tr>\n",
       "    <tr>\n",
       "      <th>181669</th>\n",
       "      <td>5.337954</td>\n",
       "      <td>30200854.0</td>\n",
       "      <td>25.0</td>\n",
       "      <td>5.0</td>\n",
       "      <td>41.0</td>\n",
       "      <td>-0.051293</td>\n",
       "      <td>1500.000</td>\n",
       "      <td>164141591</td>\n",
       "      <td>6.378426</td>\n",
       "    </tr>\n",
       "    <tr>\n",
       "      <th>181670</th>\n",
       "      <td>1.443523</td>\n",
       "      <td>30200854.0</td>\n",
       "      <td>25.0</td>\n",
       "      <td>5.0</td>\n",
       "      <td>41.0</td>\n",
       "      <td>-0.342490</td>\n",
       "      <td>1250.000</td>\n",
       "      <td>164141591</td>\n",
       "      <td>6.428105</td>\n",
       "    </tr>\n",
       "    <tr>\n",
       "      <th>181672</th>\n",
       "      <td>6.008043</td>\n",
       "      <td>30200854.0</td>\n",
       "      <td>25.0</td>\n",
       "      <td>5.0</td>\n",
       "      <td>41.0</td>\n",
       "      <td>-0.342490</td>\n",
       "      <td>1240.000</td>\n",
       "      <td>164141591</td>\n",
       "      <td>6.408529</td>\n",
       "    </tr>\n",
       "  </tbody>\n",
       "</table>\n",
       "<p>150434 rows × 9 columns</p>\n",
       "</div>"
      ],
      "text/plain": [
       "        quantity_tons    customer  country  item_type application  thickness  \\\n",
       "0            3.991779  30156308.0     28.0        5.0        10.0   0.693147   \n",
       "1            6.643822  30202938.0     25.0        5.0        41.0  -0.223144   \n",
       "2            5.956169  30153963.0     30.0        6.0        28.0  -0.967584   \n",
       "3            5.310301  30349574.0     32.0        3.0        59.0   0.832909   \n",
       "4            6.666354  30211560.0     28.0        5.0        10.0   1.386294   \n",
       "...               ...         ...      ...        ...         ...        ...   \n",
       "181667       4.670802  30200854.0     25.0        5.0        41.0  -0.040822   \n",
       "181668       4.629691  30200854.0     25.0        5.0        41.0  -0.040822   \n",
       "181669       5.337954  30200854.0     25.0        5.0        41.0  -0.051293   \n",
       "181670       1.443523  30200854.0     25.0        5.0        41.0  -0.342490   \n",
       "181672       6.008043  30200854.0     25.0        5.0        41.0  -0.342490   \n",
       "\n",
       "           width product_ref  selling_price  \n",
       "0       1500.000  1670798778       6.749931  \n",
       "1       1210.000  1668701718       6.953684  \n",
       "2        952.000      628377       6.468211  \n",
       "3       1317.000  1668701718       6.643790  \n",
       "4       1981.125      640665       6.357842  \n",
       "...          ...         ...            ...  \n",
       "181667  1240.000   164141591       6.400257  \n",
       "181668  1220.000   164141591       6.381816  \n",
       "181669  1500.000   164141591       6.378426  \n",
       "181670  1250.000   164141591       6.428105  \n",
       "181672  1240.000   164141591       6.408529  \n",
       "\n",
       "[150434 rows x 9 columns]"
      ]
     },
     "execution_count": 56,
     "metadata": {},
     "output_type": "execute_result"
    }
   ],
   "source": [
    "x"
   ]
  },
  {
   "cell_type": "code",
   "execution_count": 57,
   "id": "00094875",
   "metadata": {},
   "outputs": [
    {
     "data": {
      "text/plain": [
       "0         1\n",
       "1         1\n",
       "2         1\n",
       "3         1\n",
       "4         1\n",
       "         ..\n",
       "181667    1\n",
       "181668    1\n",
       "181669    1\n",
       "181670    1\n",
       "181672    1\n",
       "Name: status, Length: 150434, dtype: int64"
      ]
     },
     "execution_count": 57,
     "metadata": {},
     "output_type": "execute_result"
    }
   ],
   "source": [
    "y"
   ]
  },
  {
   "cell_type": "code",
   "execution_count": 58,
   "id": "1dd4fdda",
   "metadata": {},
   "outputs": [
    {
     "data": {
      "text/plain": [
       "((225688, 9), (225688,))"
      ]
     },
     "execution_count": 58,
     "metadata": {},
     "output_type": "execute_result"
    }
   ],
   "source": [
    "from imblearn.combine import SMOTETomek\n",
    "model = SMOTETomek()\n",
    "x_new , y_new = model.fit_resample(x,y)\n",
    "x_new.shape,y_new.shape"
   ]
  },
  {
   "cell_type": "code",
   "execution_count": 59,
   "id": "35a170c3",
   "metadata": {},
   "outputs": [
    {
     "data": {
      "text/plain": [
       "status\n",
       "1    0.5\n",
       "0    0.5\n",
       "Name: proportion, dtype: float64"
      ]
     },
     "execution_count": 59,
     "metadata": {},
     "output_type": "execute_result"
    }
   ],
   "source": [
    "y_new.value_counts(normalize=True)"
   ]
  },
  {
   "cell_type": "code",
   "execution_count": 60,
   "id": "4f656075",
   "metadata": {},
   "outputs": [
    {
     "data": {
      "text/html": [
       "<div>\n",
       "<style scoped>\n",
       "    .dataframe tbody tr th:only-of-type {\n",
       "        vertical-align: middle;\n",
       "    }\n",
       "\n",
       "    .dataframe tbody tr th {\n",
       "        vertical-align: top;\n",
       "    }\n",
       "\n",
       "    .dataframe thead th {\n",
       "        text-align: right;\n",
       "    }\n",
       "</style>\n",
       "<table border=\"1\" class=\"dataframe\">\n",
       "  <thead>\n",
       "    <tr style=\"text-align: right;\">\n",
       "      <th></th>\n",
       "      <th>quantity_tons</th>\n",
       "      <th>customer</th>\n",
       "      <th>country</th>\n",
       "      <th>item_type</th>\n",
       "      <th>application</th>\n",
       "      <th>thickness</th>\n",
       "      <th>width</th>\n",
       "      <th>product_ref</th>\n",
       "      <th>selling_price</th>\n",
       "    </tr>\n",
       "  </thead>\n",
       "  <tbody>\n",
       "    <tr>\n",
       "      <th>0</th>\n",
       "      <td>3.991779</td>\n",
       "      <td>30156308.0</td>\n",
       "      <td>28.0</td>\n",
       "      <td>5.0</td>\n",
       "      <td>10.0</td>\n",
       "      <td>0.693147</td>\n",
       "      <td>1500.000000</td>\n",
       "      <td>1670798778.0</td>\n",
       "      <td>6.749931</td>\n",
       "    </tr>\n",
       "    <tr>\n",
       "      <th>1</th>\n",
       "      <td>6.643822</td>\n",
       "      <td>30202938.0</td>\n",
       "      <td>25.0</td>\n",
       "      <td>5.0</td>\n",
       "      <td>41.0</td>\n",
       "      <td>-0.223144</td>\n",
       "      <td>1210.000000</td>\n",
       "      <td>1668701718.0</td>\n",
       "      <td>6.953684</td>\n",
       "    </tr>\n",
       "    <tr>\n",
       "      <th>2</th>\n",
       "      <td>5.956169</td>\n",
       "      <td>30153963.0</td>\n",
       "      <td>30.0</td>\n",
       "      <td>6.0</td>\n",
       "      <td>28.0</td>\n",
       "      <td>-0.967584</td>\n",
       "      <td>952.000000</td>\n",
       "      <td>628377.0</td>\n",
       "      <td>6.468211</td>\n",
       "    </tr>\n",
       "    <tr>\n",
       "      <th>3</th>\n",
       "      <td>5.310301</td>\n",
       "      <td>30349574.0</td>\n",
       "      <td>32.0</td>\n",
       "      <td>3.0</td>\n",
       "      <td>59.0</td>\n",
       "      <td>0.832909</td>\n",
       "      <td>1317.000000</td>\n",
       "      <td>1668701718.0</td>\n",
       "      <td>6.643790</td>\n",
       "    </tr>\n",
       "    <tr>\n",
       "      <th>4</th>\n",
       "      <td>6.666354</td>\n",
       "      <td>30211560.0</td>\n",
       "      <td>28.0</td>\n",
       "      <td>5.0</td>\n",
       "      <td>10.0</td>\n",
       "      <td>1.386294</td>\n",
       "      <td>1981.125000</td>\n",
       "      <td>640665.0</td>\n",
       "      <td>6.357842</td>\n",
       "    </tr>\n",
       "    <tr>\n",
       "      <th>...</th>\n",
       "      <td>...</td>\n",
       "      <td>...</td>\n",
       "      <td>...</td>\n",
       "      <td>...</td>\n",
       "      <td>...</td>\n",
       "      <td>...</td>\n",
       "      <td>...</td>\n",
       "      <td>...</td>\n",
       "      <td>...</td>\n",
       "    </tr>\n",
       "    <tr>\n",
       "      <th>225683</th>\n",
       "      <td>4.796711</td>\n",
       "      <td>30161943.0</td>\n",
       "      <td>40.0</td>\n",
       "      <td>3.0</td>\n",
       "      <td>10.0</td>\n",
       "      <td>1.046695</td>\n",
       "      <td>1250.000000</td>\n",
       "      <td>640665.0</td>\n",
       "      <td>6.240291</td>\n",
       "    </tr>\n",
       "    <tr>\n",
       "      <th>225684</th>\n",
       "      <td>3.098127</td>\n",
       "      <td>30165529.0</td>\n",
       "      <td>78.0</td>\n",
       "      <td>5.0</td>\n",
       "      <td>10.0</td>\n",
       "      <td>2.079442</td>\n",
       "      <td>1080.000000</td>\n",
       "      <td>640665.0</td>\n",
       "      <td>6.491815</td>\n",
       "    </tr>\n",
       "    <tr>\n",
       "      <th>225685</th>\n",
       "      <td>4.640140</td>\n",
       "      <td>30341862.0</td>\n",
       "      <td>27.0</td>\n",
       "      <td>3.0</td>\n",
       "      <td>40.0</td>\n",
       "      <td>0.419911</td>\n",
       "      <td>1368.020076</td>\n",
       "      <td>1668701718.0</td>\n",
       "      <td>6.915542</td>\n",
       "    </tr>\n",
       "    <tr>\n",
       "      <th>225686</th>\n",
       "      <td>3.489563</td>\n",
       "      <td>30202870.0</td>\n",
       "      <td>32.0</td>\n",
       "      <td>3.0</td>\n",
       "      <td>10.0</td>\n",
       "      <td>-0.405241</td>\n",
       "      <td>1250.000000</td>\n",
       "      <td>1332077137.0</td>\n",
       "      <td>6.486362</td>\n",
       "    </tr>\n",
       "    <tr>\n",
       "      <th>225687</th>\n",
       "      <td>3.983282</td>\n",
       "      <td>30227447.0</td>\n",
       "      <td>26.0</td>\n",
       "      <td>3.0</td>\n",
       "      <td>15.0</td>\n",
       "      <td>1.722767</td>\n",
       "      <td>1800.000000</td>\n",
       "      <td>640405.0</td>\n",
       "      <td>6.856930</td>\n",
       "    </tr>\n",
       "  </tbody>\n",
       "</table>\n",
       "<p>225688 rows × 9 columns</p>\n",
       "</div>"
      ],
      "text/plain": [
       "        quantity_tons    customer  country  item_type application  thickness  \\\n",
       "0            3.991779  30156308.0     28.0        5.0        10.0   0.693147   \n",
       "1            6.643822  30202938.0     25.0        5.0        41.0  -0.223144   \n",
       "2            5.956169  30153963.0     30.0        6.0        28.0  -0.967584   \n",
       "3            5.310301  30349574.0     32.0        3.0        59.0   0.832909   \n",
       "4            6.666354  30211560.0     28.0        5.0        10.0   1.386294   \n",
       "...               ...         ...      ...        ...         ...        ...   \n",
       "225683       4.796711  30161943.0     40.0        3.0        10.0   1.046695   \n",
       "225684       3.098127  30165529.0     78.0        5.0        10.0   2.079442   \n",
       "225685       4.640140  30341862.0     27.0        3.0        40.0   0.419911   \n",
       "225686       3.489563  30202870.0     32.0        3.0        10.0  -0.405241   \n",
       "225687       3.983282  30227447.0     26.0        3.0        15.0   1.722767   \n",
       "\n",
       "              width   product_ref  selling_price  \n",
       "0       1500.000000  1670798778.0       6.749931  \n",
       "1       1210.000000  1668701718.0       6.953684  \n",
       "2        952.000000      628377.0       6.468211  \n",
       "3       1317.000000  1668701718.0       6.643790  \n",
       "4       1981.125000      640665.0       6.357842  \n",
       "...             ...           ...            ...  \n",
       "225683  1250.000000      640665.0       6.240291  \n",
       "225684  1080.000000      640665.0       6.491815  \n",
       "225685  1368.020076  1668701718.0       6.915542  \n",
       "225686  1250.000000  1332077137.0       6.486362  \n",
       "225687  1800.000000      640405.0       6.856930  \n",
       "\n",
       "[225688 rows x 9 columns]"
      ]
     },
     "execution_count": 60,
     "metadata": {},
     "output_type": "execute_result"
    }
   ],
   "source": [
    "x_new"
   ]
  },
  {
   "cell_type": "code",
   "execution_count": 61,
   "id": "8de0777e",
   "metadata": {},
   "outputs": [
    {
     "data": {
      "text/plain": [
       "0         1\n",
       "1         1\n",
       "2         1\n",
       "3         1\n",
       "4         1\n",
       "         ..\n",
       "225683    0\n",
       "225684    0\n",
       "225685    0\n",
       "225686    0\n",
       "225687    0\n",
       "Name: status, Length: 225688, dtype: int64"
      ]
     },
     "execution_count": 61,
     "metadata": {},
     "output_type": "execute_result"
    }
   ],
   "source": [
    "y_new"
   ]
  },
  {
   "cell_type": "code",
   "execution_count": 62,
   "id": "bafbf8df",
   "metadata": {},
   "outputs": [],
   "source": [
    "x_new['status'] = y_new\n",
    "x_new.to_csv('classification_dataset_ICM_df.csv',index=False)"
   ]
  },
  {
   "cell_type": "code",
   "execution_count": 63,
   "id": "2cc08e25",
   "metadata": {},
   "outputs": [
    {
     "data": {
      "text/html": [
       "<div>\n",
       "<style scoped>\n",
       "    .dataframe tbody tr th:only-of-type {\n",
       "        vertical-align: middle;\n",
       "    }\n",
       "\n",
       "    .dataframe tbody tr th {\n",
       "        vertical-align: top;\n",
       "    }\n",
       "\n",
       "    .dataframe thead th {\n",
       "        text-align: right;\n",
       "    }\n",
       "</style>\n",
       "<table border=\"1\" class=\"dataframe\">\n",
       "  <thead>\n",
       "    <tr style=\"text-align: right;\">\n",
       "      <th></th>\n",
       "      <th>quantity_tons</th>\n",
       "      <th>customer</th>\n",
       "      <th>country</th>\n",
       "      <th>item_type</th>\n",
       "      <th>application</th>\n",
       "      <th>thickness</th>\n",
       "      <th>width</th>\n",
       "      <th>product_ref</th>\n",
       "      <th>selling_price</th>\n",
       "      <th>status</th>\n",
       "    </tr>\n",
       "  </thead>\n",
       "  <tbody>\n",
       "    <tr>\n",
       "      <th>0</th>\n",
       "      <td>3.991779</td>\n",
       "      <td>30156308.0</td>\n",
       "      <td>28.0</td>\n",
       "      <td>5.0</td>\n",
       "      <td>10.0</td>\n",
       "      <td>0.693147</td>\n",
       "      <td>1500.000000</td>\n",
       "      <td>1670798778.0</td>\n",
       "      <td>6.749931</td>\n",
       "      <td>1</td>\n",
       "    </tr>\n",
       "    <tr>\n",
       "      <th>1</th>\n",
       "      <td>6.643822</td>\n",
       "      <td>30202938.0</td>\n",
       "      <td>25.0</td>\n",
       "      <td>5.0</td>\n",
       "      <td>41.0</td>\n",
       "      <td>-0.223144</td>\n",
       "      <td>1210.000000</td>\n",
       "      <td>1668701718.0</td>\n",
       "      <td>6.953684</td>\n",
       "      <td>1</td>\n",
       "    </tr>\n",
       "    <tr>\n",
       "      <th>2</th>\n",
       "      <td>5.956169</td>\n",
       "      <td>30153963.0</td>\n",
       "      <td>30.0</td>\n",
       "      <td>6.0</td>\n",
       "      <td>28.0</td>\n",
       "      <td>-0.967584</td>\n",
       "      <td>952.000000</td>\n",
       "      <td>628377.0</td>\n",
       "      <td>6.468211</td>\n",
       "      <td>1</td>\n",
       "    </tr>\n",
       "    <tr>\n",
       "      <th>3</th>\n",
       "      <td>5.310301</td>\n",
       "      <td>30349574.0</td>\n",
       "      <td>32.0</td>\n",
       "      <td>3.0</td>\n",
       "      <td>59.0</td>\n",
       "      <td>0.832909</td>\n",
       "      <td>1317.000000</td>\n",
       "      <td>1668701718.0</td>\n",
       "      <td>6.643790</td>\n",
       "      <td>1</td>\n",
       "    </tr>\n",
       "    <tr>\n",
       "      <th>4</th>\n",
       "      <td>6.666354</td>\n",
       "      <td>30211560.0</td>\n",
       "      <td>28.0</td>\n",
       "      <td>5.0</td>\n",
       "      <td>10.0</td>\n",
       "      <td>1.386294</td>\n",
       "      <td>1981.125000</td>\n",
       "      <td>640665.0</td>\n",
       "      <td>6.357842</td>\n",
       "      <td>1</td>\n",
       "    </tr>\n",
       "    <tr>\n",
       "      <th>...</th>\n",
       "      <td>...</td>\n",
       "      <td>...</td>\n",
       "      <td>...</td>\n",
       "      <td>...</td>\n",
       "      <td>...</td>\n",
       "      <td>...</td>\n",
       "      <td>...</td>\n",
       "      <td>...</td>\n",
       "      <td>...</td>\n",
       "      <td>...</td>\n",
       "    </tr>\n",
       "    <tr>\n",
       "      <th>225683</th>\n",
       "      <td>4.796711</td>\n",
       "      <td>30161943.0</td>\n",
       "      <td>40.0</td>\n",
       "      <td>3.0</td>\n",
       "      <td>10.0</td>\n",
       "      <td>1.046695</td>\n",
       "      <td>1250.000000</td>\n",
       "      <td>640665.0</td>\n",
       "      <td>6.240291</td>\n",
       "      <td>0</td>\n",
       "    </tr>\n",
       "    <tr>\n",
       "      <th>225684</th>\n",
       "      <td>3.098127</td>\n",
       "      <td>30165529.0</td>\n",
       "      <td>78.0</td>\n",
       "      <td>5.0</td>\n",
       "      <td>10.0</td>\n",
       "      <td>2.079442</td>\n",
       "      <td>1080.000000</td>\n",
       "      <td>640665.0</td>\n",
       "      <td>6.491815</td>\n",
       "      <td>0</td>\n",
       "    </tr>\n",
       "    <tr>\n",
       "      <th>225685</th>\n",
       "      <td>4.640140</td>\n",
       "      <td>30341862.0</td>\n",
       "      <td>27.0</td>\n",
       "      <td>3.0</td>\n",
       "      <td>40.0</td>\n",
       "      <td>0.419911</td>\n",
       "      <td>1368.020076</td>\n",
       "      <td>1668701718.0</td>\n",
       "      <td>6.915542</td>\n",
       "      <td>0</td>\n",
       "    </tr>\n",
       "    <tr>\n",
       "      <th>225686</th>\n",
       "      <td>3.489563</td>\n",
       "      <td>30202870.0</td>\n",
       "      <td>32.0</td>\n",
       "      <td>3.0</td>\n",
       "      <td>10.0</td>\n",
       "      <td>-0.405241</td>\n",
       "      <td>1250.000000</td>\n",
       "      <td>1332077137.0</td>\n",
       "      <td>6.486362</td>\n",
       "      <td>0</td>\n",
       "    </tr>\n",
       "    <tr>\n",
       "      <th>225687</th>\n",
       "      <td>3.983282</td>\n",
       "      <td>30227447.0</td>\n",
       "      <td>26.0</td>\n",
       "      <td>3.0</td>\n",
       "      <td>15.0</td>\n",
       "      <td>1.722767</td>\n",
       "      <td>1800.000000</td>\n",
       "      <td>640405.0</td>\n",
       "      <td>6.856930</td>\n",
       "      <td>0</td>\n",
       "    </tr>\n",
       "  </tbody>\n",
       "</table>\n",
       "<p>225688 rows × 10 columns</p>\n",
       "</div>"
      ],
      "text/plain": [
       "        quantity_tons    customer  country  item_type application  thickness  \\\n",
       "0            3.991779  30156308.0     28.0        5.0        10.0   0.693147   \n",
       "1            6.643822  30202938.0     25.0        5.0        41.0  -0.223144   \n",
       "2            5.956169  30153963.0     30.0        6.0        28.0  -0.967584   \n",
       "3            5.310301  30349574.0     32.0        3.0        59.0   0.832909   \n",
       "4            6.666354  30211560.0     28.0        5.0        10.0   1.386294   \n",
       "...               ...         ...      ...        ...         ...        ...   \n",
       "225683       4.796711  30161943.0     40.0        3.0        10.0   1.046695   \n",
       "225684       3.098127  30165529.0     78.0        5.0        10.0   2.079442   \n",
       "225685       4.640140  30341862.0     27.0        3.0        40.0   0.419911   \n",
       "225686       3.489563  30202870.0     32.0        3.0        10.0  -0.405241   \n",
       "225687       3.983282  30227447.0     26.0        3.0        15.0   1.722767   \n",
       "\n",
       "              width   product_ref  selling_price  status  \n",
       "0       1500.000000  1670798778.0       6.749931       1  \n",
       "1       1210.000000  1668701718.0       6.953684       1  \n",
       "2        952.000000      628377.0       6.468211       1  \n",
       "3       1317.000000  1668701718.0       6.643790       1  \n",
       "4       1981.125000      640665.0       6.357842       1  \n",
       "...             ...           ...            ...     ...  \n",
       "225683  1250.000000      640665.0       6.240291       0  \n",
       "225684  1080.000000      640665.0       6.491815       0  \n",
       "225685  1368.020076  1668701718.0       6.915542       0  \n",
       "225686  1250.000000  1332077137.0       6.486362       0  \n",
       "225687  1800.000000      640405.0       6.856930       0  \n",
       "\n",
       "[225688 rows x 10 columns]"
      ]
     },
     "execution_count": 63,
     "metadata": {},
     "output_type": "execute_result"
    }
   ],
   "source": [
    "x_new"
   ]
  },
  {
   "cell_type": "markdown",
   "id": "1cea3299",
   "metadata": {},
   "source": [
    "### Model Building"
   ]
  },
  {
   "cell_type": "markdown",
   "id": "173cf721",
   "metadata": {},
   "source": [
    "#### To Predict the Selling price, Regression Model is used."
   ]
  },
  {
   "cell_type": "code",
   "execution_count": 64,
   "id": "3a0713f0",
   "metadata": {},
   "outputs": [
    {
     "data": {
      "text/html": [
       "<div>\n",
       "<style scoped>\n",
       "    .dataframe tbody tr th:only-of-type {\n",
       "        vertical-align: middle;\n",
       "    }\n",
       "\n",
       "    .dataframe tbody tr th {\n",
       "        vertical-align: top;\n",
       "    }\n",
       "\n",
       "    .dataframe thead th {\n",
       "        text-align: right;\n",
       "    }\n",
       "</style>\n",
       "<table border=\"1\" class=\"dataframe\">\n",
       "  <thead>\n",
       "    <tr style=\"text-align: right;\">\n",
       "      <th></th>\n",
       "      <th>quantity_tons</th>\n",
       "      <th>customer</th>\n",
       "      <th>country</th>\n",
       "      <th>item_type</th>\n",
       "      <th>application</th>\n",
       "      <th>thickness</th>\n",
       "      <th>width</th>\n",
       "      <th>product_ref</th>\n",
       "      <th>selling_price</th>\n",
       "      <th>status</th>\n",
       "    </tr>\n",
       "  </thead>\n",
       "  <tbody>\n",
       "    <tr>\n",
       "      <th>0</th>\n",
       "      <td>3.991779</td>\n",
       "      <td>30156308.0</td>\n",
       "      <td>28.0</td>\n",
       "      <td>5.0</td>\n",
       "      <td>10.0</td>\n",
       "      <td>0.693147</td>\n",
       "      <td>1500.000000</td>\n",
       "      <td>1.670799e+09</td>\n",
       "      <td>6.749931</td>\n",
       "      <td>1</td>\n",
       "    </tr>\n",
       "    <tr>\n",
       "      <th>1</th>\n",
       "      <td>6.643822</td>\n",
       "      <td>30202938.0</td>\n",
       "      <td>25.0</td>\n",
       "      <td>5.0</td>\n",
       "      <td>41.0</td>\n",
       "      <td>-0.223144</td>\n",
       "      <td>1210.000000</td>\n",
       "      <td>1.668702e+09</td>\n",
       "      <td>6.953684</td>\n",
       "      <td>1</td>\n",
       "    </tr>\n",
       "    <tr>\n",
       "      <th>2</th>\n",
       "      <td>5.956169</td>\n",
       "      <td>30153963.0</td>\n",
       "      <td>30.0</td>\n",
       "      <td>6.0</td>\n",
       "      <td>28.0</td>\n",
       "      <td>-0.967584</td>\n",
       "      <td>952.000000</td>\n",
       "      <td>6.283770e+05</td>\n",
       "      <td>6.468211</td>\n",
       "      <td>1</td>\n",
       "    </tr>\n",
       "    <tr>\n",
       "      <th>3</th>\n",
       "      <td>5.310301</td>\n",
       "      <td>30349574.0</td>\n",
       "      <td>32.0</td>\n",
       "      <td>3.0</td>\n",
       "      <td>59.0</td>\n",
       "      <td>0.832909</td>\n",
       "      <td>1317.000000</td>\n",
       "      <td>1.668702e+09</td>\n",
       "      <td>6.643790</td>\n",
       "      <td>1</td>\n",
       "    </tr>\n",
       "    <tr>\n",
       "      <th>4</th>\n",
       "      <td>6.666354</td>\n",
       "      <td>30211560.0</td>\n",
       "      <td>28.0</td>\n",
       "      <td>5.0</td>\n",
       "      <td>10.0</td>\n",
       "      <td>1.386294</td>\n",
       "      <td>1981.125000</td>\n",
       "      <td>6.406650e+05</td>\n",
       "      <td>6.357842</td>\n",
       "      <td>1</td>\n",
       "    </tr>\n",
       "    <tr>\n",
       "      <th>...</th>\n",
       "      <td>...</td>\n",
       "      <td>...</td>\n",
       "      <td>...</td>\n",
       "      <td>...</td>\n",
       "      <td>...</td>\n",
       "      <td>...</td>\n",
       "      <td>...</td>\n",
       "      <td>...</td>\n",
       "      <td>...</td>\n",
       "      <td>...</td>\n",
       "    </tr>\n",
       "    <tr>\n",
       "      <th>225683</th>\n",
       "      <td>4.796711</td>\n",
       "      <td>30161943.0</td>\n",
       "      <td>40.0</td>\n",
       "      <td>3.0</td>\n",
       "      <td>10.0</td>\n",
       "      <td>1.046695</td>\n",
       "      <td>1250.000000</td>\n",
       "      <td>6.406650e+05</td>\n",
       "      <td>6.240291</td>\n",
       "      <td>0</td>\n",
       "    </tr>\n",
       "    <tr>\n",
       "      <th>225684</th>\n",
       "      <td>3.098127</td>\n",
       "      <td>30165529.0</td>\n",
       "      <td>78.0</td>\n",
       "      <td>5.0</td>\n",
       "      <td>10.0</td>\n",
       "      <td>2.079442</td>\n",
       "      <td>1080.000000</td>\n",
       "      <td>6.406650e+05</td>\n",
       "      <td>6.491815</td>\n",
       "      <td>0</td>\n",
       "    </tr>\n",
       "    <tr>\n",
       "      <th>225685</th>\n",
       "      <td>4.640140</td>\n",
       "      <td>30341862.0</td>\n",
       "      <td>27.0</td>\n",
       "      <td>3.0</td>\n",
       "      <td>40.0</td>\n",
       "      <td>0.419911</td>\n",
       "      <td>1368.020076</td>\n",
       "      <td>1.668702e+09</td>\n",
       "      <td>6.915542</td>\n",
       "      <td>0</td>\n",
       "    </tr>\n",
       "    <tr>\n",
       "      <th>225686</th>\n",
       "      <td>3.489563</td>\n",
       "      <td>30202870.0</td>\n",
       "      <td>32.0</td>\n",
       "      <td>3.0</td>\n",
       "      <td>10.0</td>\n",
       "      <td>-0.405241</td>\n",
       "      <td>1250.000000</td>\n",
       "      <td>1.332077e+09</td>\n",
       "      <td>6.486362</td>\n",
       "      <td>0</td>\n",
       "    </tr>\n",
       "    <tr>\n",
       "      <th>225687</th>\n",
       "      <td>3.983282</td>\n",
       "      <td>30227447.0</td>\n",
       "      <td>26.0</td>\n",
       "      <td>3.0</td>\n",
       "      <td>15.0</td>\n",
       "      <td>1.722767</td>\n",
       "      <td>1800.000000</td>\n",
       "      <td>6.404050e+05</td>\n",
       "      <td>6.856930</td>\n",
       "      <td>0</td>\n",
       "    </tr>\n",
       "  </tbody>\n",
       "</table>\n",
       "<p>225688 rows × 10 columns</p>\n",
       "</div>"
      ],
      "text/plain": [
       "        quantity_tons    customer  country  item_type  application  thickness  \\\n",
       "0            3.991779  30156308.0     28.0        5.0         10.0   0.693147   \n",
       "1            6.643822  30202938.0     25.0        5.0         41.0  -0.223144   \n",
       "2            5.956169  30153963.0     30.0        6.0         28.0  -0.967584   \n",
       "3            5.310301  30349574.0     32.0        3.0         59.0   0.832909   \n",
       "4            6.666354  30211560.0     28.0        5.0         10.0   1.386294   \n",
       "...               ...         ...      ...        ...          ...        ...   \n",
       "225683       4.796711  30161943.0     40.0        3.0         10.0   1.046695   \n",
       "225684       3.098127  30165529.0     78.0        5.0         10.0   2.079442   \n",
       "225685       4.640140  30341862.0     27.0        3.0         40.0   0.419911   \n",
       "225686       3.489563  30202870.0     32.0        3.0         10.0  -0.405241   \n",
       "225687       3.983282  30227447.0     26.0        3.0         15.0   1.722767   \n",
       "\n",
       "              width   product_ref  selling_price  status  \n",
       "0       1500.000000  1.670799e+09       6.749931       1  \n",
       "1       1210.000000  1.668702e+09       6.953684       1  \n",
       "2        952.000000  6.283770e+05       6.468211       1  \n",
       "3       1317.000000  1.668702e+09       6.643790       1  \n",
       "4       1981.125000  6.406650e+05       6.357842       1  \n",
       "...             ...           ...            ...     ...  \n",
       "225683  1250.000000  6.406650e+05       6.240291       0  \n",
       "225684  1080.000000  6.406650e+05       6.491815       0  \n",
       "225685  1368.020076  1.668702e+09       6.915542       0  \n",
       "225686  1250.000000  1.332077e+09       6.486362       0  \n",
       "225687  1800.000000  6.404050e+05       6.856930       0  \n",
       "\n",
       "[225688 rows x 10 columns]"
      ]
     },
     "execution_count": 64,
     "metadata": {},
     "output_type": "execute_result"
    }
   ],
   "source": [
    "ICM_df_rdf = pd.read_csv(r\"C:\\Users\\SANTHOSH RAJENDRAN\\Desktop\\GUVI Python\\Project-ICM\\classification_dataset_ICM_df.csv\")\n",
    "ICM_df_rdf"
   ]
  },
  {
   "cell_type": "code",
   "execution_count": 65,
   "id": "584986e6",
   "metadata": {},
   "outputs": [
    {
     "data": {
      "text/plain": [
       "Index(['quantity_tons', 'customer', 'country', 'item_type', 'application',\n",
       "       'thickness', 'width', 'product_ref', 'selling_price', 'status'],\n",
       "      dtype='object')"
      ]
     },
     "execution_count": 65,
     "metadata": {},
     "output_type": "execute_result"
    }
   ],
   "source": [
    "ICM_df_rdf.columns"
   ]
  },
  {
   "cell_type": "code",
   "execution_count": 66,
   "id": "e8056a60",
   "metadata": {},
   "outputs": [],
   "source": [
    "ICM_df_rdf = ICM_df_rdf[['quantity_tons', 'customer', 'country', 'item_type', 'application',\n",
    "       'thickness', 'width', 'product_ref', 'selling_price', 'status']]"
   ]
  },
  {
   "cell_type": "code",
   "execution_count": 67,
   "id": "e174f7e7",
   "metadata": {},
   "outputs": [],
   "source": [
    "x = ICM_df_rdf.drop('selling_price',axis=1)\n",
    "y = ICM_df_rdf['selling_price']"
   ]
  },
  {
   "cell_type": "code",
   "execution_count": 68,
   "id": "61c9e1aa",
   "metadata": {},
   "outputs": [
    {
     "data": {
      "text/html": [
       "<div>\n",
       "<style scoped>\n",
       "    .dataframe tbody tr th:only-of-type {\n",
       "        vertical-align: middle;\n",
       "    }\n",
       "\n",
       "    .dataframe tbody tr th {\n",
       "        vertical-align: top;\n",
       "    }\n",
       "\n",
       "    .dataframe thead th {\n",
       "        text-align: right;\n",
       "    }\n",
       "</style>\n",
       "<table border=\"1\" class=\"dataframe\">\n",
       "  <thead>\n",
       "    <tr style=\"text-align: right;\">\n",
       "      <th></th>\n",
       "      <th>quantity_tons</th>\n",
       "      <th>customer</th>\n",
       "      <th>country</th>\n",
       "      <th>item_type</th>\n",
       "      <th>application</th>\n",
       "      <th>thickness</th>\n",
       "      <th>width</th>\n",
       "      <th>product_ref</th>\n",
       "      <th>status</th>\n",
       "    </tr>\n",
       "  </thead>\n",
       "  <tbody>\n",
       "    <tr>\n",
       "      <th>0</th>\n",
       "      <td>3.991779</td>\n",
       "      <td>30156308.0</td>\n",
       "      <td>28.0</td>\n",
       "      <td>5.0</td>\n",
       "      <td>10.0</td>\n",
       "      <td>0.693147</td>\n",
       "      <td>1500.000000</td>\n",
       "      <td>1.670799e+09</td>\n",
       "      <td>1</td>\n",
       "    </tr>\n",
       "    <tr>\n",
       "      <th>1</th>\n",
       "      <td>6.643822</td>\n",
       "      <td>30202938.0</td>\n",
       "      <td>25.0</td>\n",
       "      <td>5.0</td>\n",
       "      <td>41.0</td>\n",
       "      <td>-0.223144</td>\n",
       "      <td>1210.000000</td>\n",
       "      <td>1.668702e+09</td>\n",
       "      <td>1</td>\n",
       "    </tr>\n",
       "    <tr>\n",
       "      <th>2</th>\n",
       "      <td>5.956169</td>\n",
       "      <td>30153963.0</td>\n",
       "      <td>30.0</td>\n",
       "      <td>6.0</td>\n",
       "      <td>28.0</td>\n",
       "      <td>-0.967584</td>\n",
       "      <td>952.000000</td>\n",
       "      <td>6.283770e+05</td>\n",
       "      <td>1</td>\n",
       "    </tr>\n",
       "    <tr>\n",
       "      <th>3</th>\n",
       "      <td>5.310301</td>\n",
       "      <td>30349574.0</td>\n",
       "      <td>32.0</td>\n",
       "      <td>3.0</td>\n",
       "      <td>59.0</td>\n",
       "      <td>0.832909</td>\n",
       "      <td>1317.000000</td>\n",
       "      <td>1.668702e+09</td>\n",
       "      <td>1</td>\n",
       "    </tr>\n",
       "    <tr>\n",
       "      <th>4</th>\n",
       "      <td>6.666354</td>\n",
       "      <td>30211560.0</td>\n",
       "      <td>28.0</td>\n",
       "      <td>5.0</td>\n",
       "      <td>10.0</td>\n",
       "      <td>1.386294</td>\n",
       "      <td>1981.125000</td>\n",
       "      <td>6.406650e+05</td>\n",
       "      <td>1</td>\n",
       "    </tr>\n",
       "    <tr>\n",
       "      <th>...</th>\n",
       "      <td>...</td>\n",
       "      <td>...</td>\n",
       "      <td>...</td>\n",
       "      <td>...</td>\n",
       "      <td>...</td>\n",
       "      <td>...</td>\n",
       "      <td>...</td>\n",
       "      <td>...</td>\n",
       "      <td>...</td>\n",
       "    </tr>\n",
       "    <tr>\n",
       "      <th>225683</th>\n",
       "      <td>4.796711</td>\n",
       "      <td>30161943.0</td>\n",
       "      <td>40.0</td>\n",
       "      <td>3.0</td>\n",
       "      <td>10.0</td>\n",
       "      <td>1.046695</td>\n",
       "      <td>1250.000000</td>\n",
       "      <td>6.406650e+05</td>\n",
       "      <td>0</td>\n",
       "    </tr>\n",
       "    <tr>\n",
       "      <th>225684</th>\n",
       "      <td>3.098127</td>\n",
       "      <td>30165529.0</td>\n",
       "      <td>78.0</td>\n",
       "      <td>5.0</td>\n",
       "      <td>10.0</td>\n",
       "      <td>2.079442</td>\n",
       "      <td>1080.000000</td>\n",
       "      <td>6.406650e+05</td>\n",
       "      <td>0</td>\n",
       "    </tr>\n",
       "    <tr>\n",
       "      <th>225685</th>\n",
       "      <td>4.640140</td>\n",
       "      <td>30341862.0</td>\n",
       "      <td>27.0</td>\n",
       "      <td>3.0</td>\n",
       "      <td>40.0</td>\n",
       "      <td>0.419911</td>\n",
       "      <td>1368.020076</td>\n",
       "      <td>1.668702e+09</td>\n",
       "      <td>0</td>\n",
       "    </tr>\n",
       "    <tr>\n",
       "      <th>225686</th>\n",
       "      <td>3.489563</td>\n",
       "      <td>30202870.0</td>\n",
       "      <td>32.0</td>\n",
       "      <td>3.0</td>\n",
       "      <td>10.0</td>\n",
       "      <td>-0.405241</td>\n",
       "      <td>1250.000000</td>\n",
       "      <td>1.332077e+09</td>\n",
       "      <td>0</td>\n",
       "    </tr>\n",
       "    <tr>\n",
       "      <th>225687</th>\n",
       "      <td>3.983282</td>\n",
       "      <td>30227447.0</td>\n",
       "      <td>26.0</td>\n",
       "      <td>3.0</td>\n",
       "      <td>15.0</td>\n",
       "      <td>1.722767</td>\n",
       "      <td>1800.000000</td>\n",
       "      <td>6.404050e+05</td>\n",
       "      <td>0</td>\n",
       "    </tr>\n",
       "  </tbody>\n",
       "</table>\n",
       "<p>225688 rows × 9 columns</p>\n",
       "</div>"
      ],
      "text/plain": [
       "        quantity_tons    customer  country  item_type  application  thickness  \\\n",
       "0            3.991779  30156308.0     28.0        5.0         10.0   0.693147   \n",
       "1            6.643822  30202938.0     25.0        5.0         41.0  -0.223144   \n",
       "2            5.956169  30153963.0     30.0        6.0         28.0  -0.967584   \n",
       "3            5.310301  30349574.0     32.0        3.0         59.0   0.832909   \n",
       "4            6.666354  30211560.0     28.0        5.0         10.0   1.386294   \n",
       "...               ...         ...      ...        ...          ...        ...   \n",
       "225683       4.796711  30161943.0     40.0        3.0         10.0   1.046695   \n",
       "225684       3.098127  30165529.0     78.0        5.0         10.0   2.079442   \n",
       "225685       4.640140  30341862.0     27.0        3.0         40.0   0.419911   \n",
       "225686       3.489563  30202870.0     32.0        3.0         10.0  -0.405241   \n",
       "225687       3.983282  30227447.0     26.0        3.0         15.0   1.722767   \n",
       "\n",
       "              width   product_ref  status  \n",
       "0       1500.000000  1.670799e+09       1  \n",
       "1       1210.000000  1.668702e+09       1  \n",
       "2        952.000000  6.283770e+05       1  \n",
       "3       1317.000000  1.668702e+09       1  \n",
       "4       1981.125000  6.406650e+05       1  \n",
       "...             ...           ...     ...  \n",
       "225683  1250.000000  6.406650e+05       0  \n",
       "225684  1080.000000  6.406650e+05       0  \n",
       "225685  1368.020076  1.668702e+09       0  \n",
       "225686  1250.000000  1.332077e+09       0  \n",
       "225687  1800.000000  6.404050e+05       0  \n",
       "\n",
       "[225688 rows x 9 columns]"
      ]
     },
     "execution_count": 68,
     "metadata": {},
     "output_type": "execute_result"
    }
   ],
   "source": [
    "x"
   ]
  },
  {
   "cell_type": "code",
   "execution_count": 69,
   "id": "ac691f60",
   "metadata": {},
   "outputs": [
    {
     "data": {
      "text/plain": [
       "0         6.749931\n",
       "1         6.953684\n",
       "2         6.468211\n",
       "3         6.643790\n",
       "4         6.357842\n",
       "            ...   \n",
       "225683    6.240291\n",
       "225684    6.491815\n",
       "225685    6.915542\n",
       "225686    6.486362\n",
       "225687    6.856930\n",
       "Name: selling_price, Length: 225688, dtype: float64"
      ]
     },
     "execution_count": 69,
     "metadata": {},
     "output_type": "execute_result"
    }
   ],
   "source": [
    "y"
   ]
  },
  {
   "cell_type": "code",
   "execution_count": 70,
   "id": "71620697",
   "metadata": {},
   "outputs": [],
   "source": [
    "def model_regression(x,y,algorithm):\n",
    "  for i in algorithm:\n",
    "    xtrain,xtest,ytrain,ytest = train_test_split(x,y,test_size=0.2)\n",
    "    model = i().fit(xtrain,ytrain)\n",
    "    \n",
    "    # predict for train and test accuracy\n",
    "    y_train_pred = model.predict(xtrain)\n",
    "    y_test_pred  = model.predict(xtest)\n",
    "\n",
    "    # Accuracy score\n",
    "    training = r2_score(ytrain,y_train_pred)\n",
    "    testing = r2_score(ytest,y_test_pred)\n",
    "    data = {'Algorithm':i.__name__, 'Training R2 Score':training,'Testing R2 Score':testing}\n",
    "    print(data)"
   ]
  },
  {
   "cell_type": "code",
   "execution_count": 71,
   "id": "8732c492",
   "metadata": {},
   "outputs": [],
   "source": [
    "from sklearn.preprocessing import OrdinalEncoder\n",
    "from sklearn.model_selection import train_test_split\n",
    "from sklearn.metrics import mean_absolute_error, mean_squared_error, r2_score\n",
    "from sklearn.tree import DecisionTreeRegressor\n",
    "from sklearn.ensemble import ExtraTreesRegressor\n",
    "from sklearn.ensemble import RandomForestRegressor\n",
    "from sklearn.ensemble import AdaBoostRegressor\n",
    "from sklearn.ensemble import GradientBoostingRegressor\n",
    "from xgboost import XGBRegressor\n",
    "import pickle"
   ]
  },
  {
   "cell_type": "code",
   "execution_count": 72,
   "id": "25b9560b",
   "metadata": {},
   "outputs": [
    {
     "name": "stdout",
     "output_type": "stream",
     "text": [
      "{'Algorithm': 'DecisionTreeRegressor', 'Training R2 Score': 0.997889626692492, 'Testing R2 Score': 0.5495963931208572}\n",
      "{'Algorithm': 'ExtraTreesRegressor', 'Training R2 Score': 0.9978097018674658, 'Testing R2 Score': 0.692505480529783}\n",
      "{'Algorithm': 'RandomForestRegressor', 'Training R2 Score': 0.9616395095151868, 'Testing R2 Score': 0.7336088962634933}\n",
      "{'Algorithm': 'AdaBoostRegressor', 'Training R2 Score': 0.3603315637905785, 'Testing R2 Score': 0.35908748447626193}\n",
      "{'Algorithm': 'GradientBoostingRegressor', 'Training R2 Score': 0.4551940045046592, 'Testing R2 Score': 0.453339323922897}\n",
      "{'Algorithm': 'XGBRegressor', 'Training R2 Score': 0.647802221348456, 'Testing R2 Score': 0.6290867602748573}\n"
     ]
    }
   ],
   "source": [
    "%%time\n",
    "model_regression(x,y,[DecisionTreeRegressor,ExtraTreesRegressor,RandomForestRegressor, AdaBoostRegressor, GradientBoostingRegressor,XGBRegressor])"
   ]
  },
  {
   "cell_type": "markdown",
   "id": "cbe516bb",
   "metadata": {},
   "source": [
    "### Hyperparameter tuning with Grid-Search CV"
   ]
  },
  {
   "cell_type": "code",
   "execution_count": 73,
   "id": "7076442d",
   "metadata": {},
   "outputs": [
    {
     "data": {
      "text/html": [
       "<style>#sk-container-id-1 {color: black;background-color: white;}#sk-container-id-1 pre{padding: 0;}#sk-container-id-1 div.sk-toggleable {background-color: white;}#sk-container-id-1 label.sk-toggleable__label {cursor: pointer;display: block;width: 100%;margin-bottom: 0;padding: 0.3em;box-sizing: border-box;text-align: center;}#sk-container-id-1 label.sk-toggleable__label-arrow:before {content: \"▸\";float: left;margin-right: 0.25em;color: #696969;}#sk-container-id-1 label.sk-toggleable__label-arrow:hover:before {color: black;}#sk-container-id-1 div.sk-estimator:hover label.sk-toggleable__label-arrow:before {color: black;}#sk-container-id-1 div.sk-toggleable__content {max-height: 0;max-width: 0;overflow: hidden;text-align: left;background-color: #f0f8ff;}#sk-container-id-1 div.sk-toggleable__content pre {margin: 0.2em;color: black;border-radius: 0.25em;background-color: #f0f8ff;}#sk-container-id-1 input.sk-toggleable__control:checked~div.sk-toggleable__content {max-height: 200px;max-width: 100%;overflow: auto;}#sk-container-id-1 input.sk-toggleable__control:checked~label.sk-toggleable__label-arrow:before {content: \"▾\";}#sk-container-id-1 div.sk-estimator input.sk-toggleable__control:checked~label.sk-toggleable__label {background-color: #d4ebff;}#sk-container-id-1 div.sk-label input.sk-toggleable__control:checked~label.sk-toggleable__label {background-color: #d4ebff;}#sk-container-id-1 input.sk-hidden--visually {border: 0;clip: rect(1px 1px 1px 1px);clip: rect(1px, 1px, 1px, 1px);height: 1px;margin: -1px;overflow: hidden;padding: 0;position: absolute;width: 1px;}#sk-container-id-1 div.sk-estimator {font-family: monospace;background-color: #f0f8ff;border: 1px dotted black;border-radius: 0.25em;box-sizing: border-box;margin-bottom: 0.5em;}#sk-container-id-1 div.sk-estimator:hover {background-color: #d4ebff;}#sk-container-id-1 div.sk-parallel-item::after {content: \"\";width: 100%;border-bottom: 1px solid gray;flex-grow: 1;}#sk-container-id-1 div.sk-label:hover label.sk-toggleable__label {background-color: #d4ebff;}#sk-container-id-1 div.sk-serial::before {content: \"\";position: absolute;border-left: 1px solid gray;box-sizing: border-box;top: 0;bottom: 0;left: 50%;z-index: 0;}#sk-container-id-1 div.sk-serial {display: flex;flex-direction: column;align-items: center;background-color: white;padding-right: 0.2em;padding-left: 0.2em;position: relative;}#sk-container-id-1 div.sk-item {position: relative;z-index: 1;}#sk-container-id-1 div.sk-parallel {display: flex;align-items: stretch;justify-content: center;background-color: white;position: relative;}#sk-container-id-1 div.sk-item::before, #sk-container-id-1 div.sk-parallel-item::before {content: \"\";position: absolute;border-left: 1px solid gray;box-sizing: border-box;top: 0;bottom: 0;left: 50%;z-index: -1;}#sk-container-id-1 div.sk-parallel-item {display: flex;flex-direction: column;z-index: 1;position: relative;background-color: white;}#sk-container-id-1 div.sk-parallel-item:first-child::after {align-self: flex-end;width: 50%;}#sk-container-id-1 div.sk-parallel-item:last-child::after {align-self: flex-start;width: 50%;}#sk-container-id-1 div.sk-parallel-item:only-child::after {width: 0;}#sk-container-id-1 div.sk-dashed-wrapped {border: 1px dashed gray;margin: 0 0.4em 0.5em 0.4em;box-sizing: border-box;padding-bottom: 0.4em;background-color: white;}#sk-container-id-1 div.sk-label label {font-family: monospace;font-weight: bold;display: inline-block;line-height: 1.2em;}#sk-container-id-1 div.sk-label-container {text-align: center;}#sk-container-id-1 div.sk-container {/* jupyter's `normalize.less` sets `[hidden] { display: none; }` but bootstrap.min.css set `[hidden] { display: none !important; }` so we also need the `!important` here to be able to override the default hidden behavior on the sphinx rendered scikit-learn.org. See: https://github.com/scikit-learn/scikit-learn/issues/21755 */display: inline-block !important;position: relative;}#sk-container-id-1 div.sk-text-repr-fallback {display: none;}</style><div id=\"sk-container-id-1\" class=\"sk-top-container\"><div class=\"sk-text-repr-fallback\"><pre>GridSearchCV(cv=5, estimator=RandomForestRegressor(), n_jobs=-1,\n",
       "             param_grid={&#x27;max_depth&#x27;: [2, 4, 10, 20],\n",
       "                         &#x27;max_features&#x27;: [&#x27;sqrt&#x27;, &#x27;log2&#x27;, None],\n",
       "                         &#x27;min_samples_leaf&#x27;: [1, 2, 4],\n",
       "                         &#x27;min_samples_split&#x27;: [2, 5, 10]})</pre><b>In a Jupyter environment, please rerun this cell to show the HTML representation or trust the notebook. <br />On GitHub, the HTML representation is unable to render, please try loading this page with nbviewer.org.</b></div><div class=\"sk-container\" hidden><div class=\"sk-item sk-dashed-wrapped\"><div class=\"sk-label-container\"><div class=\"sk-label sk-toggleable\"><input class=\"sk-toggleable__control sk-hidden--visually\" id=\"sk-estimator-id-1\" type=\"checkbox\" ><label for=\"sk-estimator-id-1\" class=\"sk-toggleable__label sk-toggleable__label-arrow\">GridSearchCV</label><div class=\"sk-toggleable__content\"><pre>GridSearchCV(cv=5, estimator=RandomForestRegressor(), n_jobs=-1,\n",
       "             param_grid={&#x27;max_depth&#x27;: [2, 4, 10, 20],\n",
       "                         &#x27;max_features&#x27;: [&#x27;sqrt&#x27;, &#x27;log2&#x27;, None],\n",
       "                         &#x27;min_samples_leaf&#x27;: [1, 2, 4],\n",
       "                         &#x27;min_samples_split&#x27;: [2, 5, 10]})</pre></div></div></div><div class=\"sk-parallel\"><div class=\"sk-parallel-item\"><div class=\"sk-item\"><div class=\"sk-label-container\"><div class=\"sk-label sk-toggleable\"><input class=\"sk-toggleable__control sk-hidden--visually\" id=\"sk-estimator-id-2\" type=\"checkbox\" ><label for=\"sk-estimator-id-2\" class=\"sk-toggleable__label sk-toggleable__label-arrow\">estimator: RandomForestRegressor</label><div class=\"sk-toggleable__content\"><pre>RandomForestRegressor()</pre></div></div></div><div class=\"sk-serial\"><div class=\"sk-item\"><div class=\"sk-estimator sk-toggleable\"><input class=\"sk-toggleable__control sk-hidden--visually\" id=\"sk-estimator-id-3\" type=\"checkbox\" ><label for=\"sk-estimator-id-3\" class=\"sk-toggleable__label sk-toggleable__label-arrow\">RandomForestRegressor</label><div class=\"sk-toggleable__content\"><pre>RandomForestRegressor()</pre></div></div></div></div></div></div></div></div></div></div>"
      ],
      "text/plain": [
       "GridSearchCV(cv=5, estimator=RandomForestRegressor(), n_jobs=-1,\n",
       "             param_grid={'max_depth': [2, 4, 10, 20],\n",
       "                         'max_features': ['sqrt', 'log2', None],\n",
       "                         'min_samples_leaf': [1, 2, 4],\n",
       "                         'min_samples_split': [2, 5, 10]})"
      ]
     },
     "execution_count": 73,
     "metadata": {},
     "output_type": "execute_result"
    }
   ],
   "source": [
    "%%time\n",
    "from sklearn.model_selection import GridSearchCV\n",
    "x_train, x_test, y_train, y_test= train_test_split(x,y, test_size= 0.2, random_state= 42)\n",
    "\n",
    "parameters_r= {\"max_depth\": [2,4,10,20],\n",
    "               \"min_samples_split\": [2,5,10],\n",
    "               \"min_samples_leaf\": [1,2,4],\n",
    "               \"max_features\": [\"sqrt\",\"log2\",None]}\n",
    "\n",
    "gridsearch_r= GridSearchCV(estimator= RandomForestRegressor(), param_grid= parameters_r, cv= 5,n_jobs=-1)\n",
    "gridsearch_r.fit(x_train, y_train)"
   ]
  },
  {
   "cell_type": "code",
   "execution_count": 78,
   "id": "7d06ec40",
   "metadata": {},
   "outputs": [
    {
     "data": {
      "text/html": [
       "<style>#sk-container-id-2 {color: black;background-color: white;}#sk-container-id-2 pre{padding: 0;}#sk-container-id-2 div.sk-toggleable {background-color: white;}#sk-container-id-2 label.sk-toggleable__label {cursor: pointer;display: block;width: 100%;margin-bottom: 0;padding: 0.3em;box-sizing: border-box;text-align: center;}#sk-container-id-2 label.sk-toggleable__label-arrow:before {content: \"▸\";float: left;margin-right: 0.25em;color: #696969;}#sk-container-id-2 label.sk-toggleable__label-arrow:hover:before {color: black;}#sk-container-id-2 div.sk-estimator:hover label.sk-toggleable__label-arrow:before {color: black;}#sk-container-id-2 div.sk-toggleable__content {max-height: 0;max-width: 0;overflow: hidden;text-align: left;background-color: #f0f8ff;}#sk-container-id-2 div.sk-toggleable__content pre {margin: 0.2em;color: black;border-radius: 0.25em;background-color: #f0f8ff;}#sk-container-id-2 input.sk-toggleable__control:checked~div.sk-toggleable__content {max-height: 200px;max-width: 100%;overflow: auto;}#sk-container-id-2 input.sk-toggleable__control:checked~label.sk-toggleable__label-arrow:before {content: \"▾\";}#sk-container-id-2 div.sk-estimator input.sk-toggleable__control:checked~label.sk-toggleable__label {background-color: #d4ebff;}#sk-container-id-2 div.sk-label input.sk-toggleable__control:checked~label.sk-toggleable__label {background-color: #d4ebff;}#sk-container-id-2 input.sk-hidden--visually {border: 0;clip: rect(1px 1px 1px 1px);clip: rect(1px, 1px, 1px, 1px);height: 1px;margin: -1px;overflow: hidden;padding: 0;position: absolute;width: 1px;}#sk-container-id-2 div.sk-estimator {font-family: monospace;background-color: #f0f8ff;border: 1px dotted black;border-radius: 0.25em;box-sizing: border-box;margin-bottom: 0.5em;}#sk-container-id-2 div.sk-estimator:hover {background-color: #d4ebff;}#sk-container-id-2 div.sk-parallel-item::after {content: \"\";width: 100%;border-bottom: 1px solid gray;flex-grow: 1;}#sk-container-id-2 div.sk-label:hover label.sk-toggleable__label {background-color: #d4ebff;}#sk-container-id-2 div.sk-serial::before {content: \"\";position: absolute;border-left: 1px solid gray;box-sizing: border-box;top: 0;bottom: 0;left: 50%;z-index: 0;}#sk-container-id-2 div.sk-serial {display: flex;flex-direction: column;align-items: center;background-color: white;padding-right: 0.2em;padding-left: 0.2em;position: relative;}#sk-container-id-2 div.sk-item {position: relative;z-index: 1;}#sk-container-id-2 div.sk-parallel {display: flex;align-items: stretch;justify-content: center;background-color: white;position: relative;}#sk-container-id-2 div.sk-item::before, #sk-container-id-2 div.sk-parallel-item::before {content: \"\";position: absolute;border-left: 1px solid gray;box-sizing: border-box;top: 0;bottom: 0;left: 50%;z-index: -1;}#sk-container-id-2 div.sk-parallel-item {display: flex;flex-direction: column;z-index: 1;position: relative;background-color: white;}#sk-container-id-2 div.sk-parallel-item:first-child::after {align-self: flex-end;width: 50%;}#sk-container-id-2 div.sk-parallel-item:last-child::after {align-self: flex-start;width: 50%;}#sk-container-id-2 div.sk-parallel-item:only-child::after {width: 0;}#sk-container-id-2 div.sk-dashed-wrapped {border: 1px dashed gray;margin: 0 0.4em 0.5em 0.4em;box-sizing: border-box;padding-bottom: 0.4em;background-color: white;}#sk-container-id-2 div.sk-label label {font-family: monospace;font-weight: bold;display: inline-block;line-height: 1.2em;}#sk-container-id-2 div.sk-label-container {text-align: center;}#sk-container-id-2 div.sk-container {/* jupyter's `normalize.less` sets `[hidden] { display: none; }` but bootstrap.min.css set `[hidden] { display: none !important; }` so we also need the `!important` here to be able to override the default hidden behavior on the sphinx rendered scikit-learn.org. See: https://github.com/scikit-learn/scikit-learn/issues/21755 */display: inline-block !important;position: relative;}#sk-container-id-2 div.sk-text-repr-fallback {display: none;}</style><div id=\"sk-container-id-2\" class=\"sk-top-container\"><div class=\"sk-text-repr-fallback\"><pre>RandomizedSearchCV(cv=5, estimator=RandomForestRegressor(random_state=42),\n",
       "                   n_jobs=-1,\n",
       "                   param_distributions={&#x27;max_depth&#x27;: [None, 10, 20, 30, 40, 50,\n",
       "                                                      60, 70, 80, 90, 100],\n",
       "                                        &#x27;min_samples_leaf&#x27;: array([ 1,  2,  3,  4,  5,  6,  7,  8,  9, 10]),\n",
       "                                        &#x27;min_samples_split&#x27;: array([ 2,  3,  4,  5,  6,  7,  8,  9, 10]),\n",
       "                                        &#x27;n_estimators&#x27;: array([ 10,  20,  30,  40,  50,  60,  70,  80,  90, 100])},\n",
       "                   random_state=42, scoring=&#x27;neg_mean_squared_error&#x27;)</pre><b>In a Jupyter environment, please rerun this cell to show the HTML representation or trust the notebook. <br />On GitHub, the HTML representation is unable to render, please try loading this page with nbviewer.org.</b></div><div class=\"sk-container\" hidden><div class=\"sk-item sk-dashed-wrapped\"><div class=\"sk-label-container\"><div class=\"sk-label sk-toggleable\"><input class=\"sk-toggleable__control sk-hidden--visually\" id=\"sk-estimator-id-4\" type=\"checkbox\" ><label for=\"sk-estimator-id-4\" class=\"sk-toggleable__label sk-toggleable__label-arrow\">RandomizedSearchCV</label><div class=\"sk-toggleable__content\"><pre>RandomizedSearchCV(cv=5, estimator=RandomForestRegressor(random_state=42),\n",
       "                   n_jobs=-1,\n",
       "                   param_distributions={&#x27;max_depth&#x27;: [None, 10, 20, 30, 40, 50,\n",
       "                                                      60, 70, 80, 90, 100],\n",
       "                                        &#x27;min_samples_leaf&#x27;: array([ 1,  2,  3,  4,  5,  6,  7,  8,  9, 10]),\n",
       "                                        &#x27;min_samples_split&#x27;: array([ 2,  3,  4,  5,  6,  7,  8,  9, 10]),\n",
       "                                        &#x27;n_estimators&#x27;: array([ 10,  20,  30,  40,  50,  60,  70,  80,  90, 100])},\n",
       "                   random_state=42, scoring=&#x27;neg_mean_squared_error&#x27;)</pre></div></div></div><div class=\"sk-parallel\"><div class=\"sk-parallel-item\"><div class=\"sk-item\"><div class=\"sk-label-container\"><div class=\"sk-label sk-toggleable\"><input class=\"sk-toggleable__control sk-hidden--visually\" id=\"sk-estimator-id-5\" type=\"checkbox\" ><label for=\"sk-estimator-id-5\" class=\"sk-toggleable__label sk-toggleable__label-arrow\">estimator: RandomForestRegressor</label><div class=\"sk-toggleable__content\"><pre>RandomForestRegressor(random_state=42)</pre></div></div></div><div class=\"sk-serial\"><div class=\"sk-item\"><div class=\"sk-estimator sk-toggleable\"><input class=\"sk-toggleable__control sk-hidden--visually\" id=\"sk-estimator-id-6\" type=\"checkbox\" ><label for=\"sk-estimator-id-6\" class=\"sk-toggleable__label sk-toggleable__label-arrow\">RandomForestRegressor</label><div class=\"sk-toggleable__content\"><pre>RandomForestRegressor(random_state=42)</pre></div></div></div></div></div></div></div></div></div></div>"
      ],
      "text/plain": [
       "RandomizedSearchCV(cv=5, estimator=RandomForestRegressor(random_state=42),\n",
       "                   n_jobs=-1,\n",
       "                   param_distributions={'max_depth': [None, 10, 20, 30, 40, 50,\n",
       "                                                      60, 70, 80, 90, 100],\n",
       "                                        'min_samples_leaf': array([ 1,  2,  3,  4,  5,  6,  7,  8,  9, 10]),\n",
       "                                        'min_samples_split': array([ 2,  3,  4,  5,  6,  7,  8,  9, 10]),\n",
       "                                        'n_estimators': array([ 10,  20,  30,  40,  50,  60,  70,  80,  90, 100])},\n",
       "                   random_state=42, scoring='neg_mean_squared_error')"
      ]
     },
     "execution_count": 78,
     "metadata": {},
     "output_type": "execute_result"
    }
   ],
   "source": [
    "%%time\n",
    "from sklearn.model_selection import RandomizedSearchCV\n",
    "x_train, x_test, y_train, y_test= train_test_split(x,y, test_size= 0.2, random_state= 42)\n",
    "\n",
    "# Define the parameter grid for RandomizedSearchCV\n",
    "param_distributions = {\n",
    "    'n_estimators': np.arange(10, 101, 10),\n",
    "    'max_depth': [None] + list(np.arange(10, 101, 10)),\n",
    "    'min_samples_split': np.arange(2, 11),\n",
    "    'min_samples_leaf': np.arange(1, 11)\n",
    "}\n",
    "\n",
    "random_search= RandomizedSearchCV(estimator= RandomForestRegressor(random_state=42), param_distributions=param_distributions, n_iter=10, scoring='neg_mean_squared_error', cv=5, random_state=42, n_jobs=-1)\n",
    "random_search.fit(x_train, y_train)"
   ]
  },
  {
   "cell_type": "code",
   "execution_count": 75,
   "id": "ee58bdf8",
   "metadata": {},
   "outputs": [
    {
     "data": {
      "text/plain": [
       "0.7279840959154912"
      ]
     },
     "execution_count": 75,
     "metadata": {},
     "output_type": "execute_result"
    }
   ],
   "source": [
    "gridsearch_r.best_score_"
   ]
  },
  {
   "cell_type": "code",
   "execution_count": 77,
   "id": "82c5b292",
   "metadata": {},
   "outputs": [
    {
     "data": {
      "text/plain": [
       "{'max_depth': 20,\n",
       " 'max_features': None,\n",
       " 'min_samples_leaf': 1,\n",
       " 'min_samples_split': 5}"
      ]
     },
     "execution_count": 77,
     "metadata": {},
     "output_type": "execute_result"
    }
   ],
   "source": [
    "gridsearch_r.best_params_"
   ]
  },
  {
   "cell_type": "code",
   "execution_count": 79,
   "id": "49f6bb15",
   "metadata": {},
   "outputs": [
    {
     "data": {
      "text/plain": [
       "-0.014496980320673595"
      ]
     },
     "execution_count": 79,
     "metadata": {},
     "output_type": "execute_result"
    }
   ],
   "source": [
    "random_search.best_score_"
   ]
  },
  {
   "cell_type": "code",
   "execution_count": 80,
   "id": "e7fbe8f5",
   "metadata": {},
   "outputs": [
    {
     "data": {
      "text/plain": [
       "{'n_estimators': 90,\n",
       " 'min_samples_split': 10,\n",
       " 'min_samples_leaf': 2,\n",
       " 'max_depth': 60}"
      ]
     },
     "execution_count": 80,
     "metadata": {},
     "output_type": "execute_result"
    }
   ],
   "source": [
    "random_search.best_params_"
   ]
  },
  {
   "cell_type": "markdown",
   "id": "608a4b1c",
   "metadata": {},
   "source": [
    "## End this"
   ]
  },
  {
   "cell_type": "code",
   "execution_count": 82,
   "id": "5cdcd332",
   "metadata": {},
   "outputs": [
    {
     "name": "stdout",
     "output_type": "stream",
     "text": [
      "Enter the Quantity Ton value :1.849617\n",
      "Enter the cusomer value :30160378\n",
      "Enter the country code :78\n",
      "Enter the  status :2\n",
      "Enter the item type value :5\n",
      "Enter the application value :3.713572\n",
      "Enter the thickness value :-0.356675\n",
      "Enter the width value :7.129298\n",
      "Enter the product ref value :611993\n"
     ]
    }
   ],
   "source": [
    "quantity_tons = float(input('Enter the Quantity Ton value :'))\n",
    "\n",
    "customer = float(input('Enter the cusomer value :'))\n",
    "\n",
    "country = float(input('Enter the country code :'))\n",
    "\n",
    "status = float(input('Enter the  status :'))\n",
    "\n",
    "item_type = float(input('Enter the item type value :'))\n",
    "\n",
    "application = float(input('Enter the application value :'))\n",
    "\n",
    "thickness = float(input('Enter the thickness value :'))\n",
    "\n",
    "width = float(input('Enter the width value :'))\n",
    "\n",
    "product_ref = float(input('Enter the product ref value :'))\n"
   ]
  },
  {
   "cell_type": "code",
   "execution_count": 88,
   "id": "e6a16d9d",
   "metadata": {},
   "outputs": [],
   "source": [
    "x = ICM_df_rdf.loc[10000]"
   ]
  },
  {
   "cell_type": "code",
   "execution_count": 89,
   "id": "c5523e57",
   "metadata": {},
   "outputs": [
    {
     "data": {
      "text/plain": [
       "[6.925152166354773,\n",
       " 30198657.0,\n",
       " 32.0,\n",
       " 5.0,\n",
       " 41.0,\n",
       " 1.0986122886681098,\n",
       " 1500.0,\n",
       " 640665.0,\n",
       " 6.70073110954781,\n",
       " 1.0]"
      ]
     },
     "execution_count": 89,
     "metadata": {},
     "output_type": "execute_result"
    }
   ],
   "source": [
    "x.values.tolist()"
   ]
  }
 ],
 "metadata": {
  "kernelspec": {
   "display_name": "Python 3 (ipykernel)",
   "language": "python",
   "name": "python3"
  },
  "language_info": {
   "codemirror_mode": {
    "name": "ipython",
    "version": 3
   },
   "file_extension": ".py",
   "mimetype": "text/x-python",
   "name": "python",
   "nbconvert_exporter": "python",
   "pygments_lexer": "ipython3",
   "version": "3.11.7"
  }
 },
 "nbformat": 4,
 "nbformat_minor": 5
}
